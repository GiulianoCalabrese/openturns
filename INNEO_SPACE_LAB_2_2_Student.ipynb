{
  "cells": [
    {
      "cell_type": "markdown",
      "metadata": {
        "id": "view-in-github",
        "colab_type": "text"
      },
      "source": [
        "<a href=\"https://colab.research.google.com/github/GiulianoCalabrese/openturns/blob/master/INNEO_SPACE_LAB_2_2_Student.ipynb\" target=\"_parent\"><img src=\"https://colab.research.google.com/assets/colab-badge.svg\" alt=\"Open In Colab\"/></a>"
      ]
    },
    {
      "cell_type": "markdown",
      "metadata": {
        "id": "4_2NA-nDHgtJ"
      },
      "source": [
        "![inneo_logo](https://drive.google.com/uc?id=1sLsgpURBFrczz5HMbr9Ci9qzHV_Awgvq) <br/>INNEO Summer school - AI and EO "
      ]
    },
    {
      "cell_type": "markdown",
      "metadata": {
        "id": "W29MrBMbHgtX"
      },
      "source": [
        "# Classify Earth observation images with deep learning models\n",
        "Deep learning models are the state of the art in image classification. In this practical we will learn how to build a simple deep learning image classification model with pytorch and use it to classify satellite images. We will then use the state of the art model architectures available in the torchvision package to perform the same task."
      ]
    },
    {
      "cell_type": "markdown",
      "metadata": {
        "id": "gagSvbLnHgtf"
      },
      "source": [
        "# Part 2 -  Using a CNN to classify TIFF images\n",
        "Convolutional Neural Network (CNN) architectures are the current state of the art in image classification. We will use pytorch to build a CNN to classify images from the EuroSAT dataset. For this second part we will classify TIFF images. Find out more about the EuroSAT dataset [here](https://github.com/phelber/EuroSAT) and [here](https://arxiv.org/pdf/1709.00029.pdf)."
      ]
    },
    {
      "cell_type": "code",
      "execution_count": 1,
      "metadata": {
        "id": "SmRytnVrHgtk"
      },
      "outputs": [],
      "source": [
        "# Import needed libraries\n",
        "\n",
        "import os\n",
        "import time\n",
        "\n",
        "# Pytorch\n",
        "import torch\n",
        "from torch import nn\n",
        "import torch.nn.functional as F\n",
        "from torch.utils.data import DataLoader\n",
        "from torch.utils.data import Dataset\n",
        "\n",
        "from tqdm import tqdm as tqdm\n",
        "\n",
        "import torchvision\n",
        "from torchvision import transforms\n",
        "\n",
        "from torchsummary import summary\n",
        "\n",
        "import random\n",
        "\n",
        "from PIL import Image\n",
        "import numpy as np\n",
        "import pandas as pd\n",
        "\n",
        "import matplotlib.pyplot as plt\n",
        "import seaborn as sns\n",
        "\n",
        "from osgeo import gdal"
      ]
    },
    {
      "cell_type": "markdown",
      "metadata": {
        "id": "CrSfc9nYHgto"
      },
      "source": [
        "We check if we have GPU, if not we will run our models on CPU and set the device accordingly."
      ]
    },
    {
      "cell_type": "code",
      "execution_count": 2,
      "metadata": {
        "id": "OXDsm-ZrHgtr"
      },
      "outputs": [],
      "source": [
        "# Check if GPU is available and set device accordingly\n",
        "if torch.cuda.is_available():\n",
        "    device = torch.device('cuda')\n",
        "else:\n",
        "    device = torch.device('cpu')"
      ]
    },
    {
      "cell_type": "code",
      "source": [
        "# download images for the lab\n",
        "# might take some time - few minutes\n",
        "import requests\n",
        "url = 'https://filesender.renater.fr/download.php?token=c4da6853-78ec-4420-a986-ad718fe04f1c&files_ids=16610020'\n",
        "r = requests.get(url, allow_redirects=True)\n",
        "\n",
        "with open('lab2.zip', 'wb') as f:\n",
        "    f.write(r.content)\n",
        "\n",
        "# unzip files\n",
        "!unzip -uq \"lab2.zip\" -d \"lab2\""
      ],
      "metadata": {
        "id": "tucxmInbNEke"
      },
      "execution_count": 3,
      "outputs": []
    },
    {
      "cell_type": "code",
      "source": [
        "# Path to dataset\n",
        "TIFF_DATA_BASE_PATH = 'lab2/TIFF'"
      ],
      "metadata": {
        "id": "ThF4h0YfWNXY"
      },
      "execution_count": 4,
      "outputs": []
    },
    {
      "cell_type": "markdown",
      "metadata": {
        "id": "4Vb4SjLdHgtx"
      },
      "source": [
        "Our data is in a folder organized by class labels. We can list the content of this folder to get the number of classes and their names."
      ]
    },
    {
      "cell_type": "code",
      "execution_count": 5,
      "metadata": {
        "colab": {
          "base_uri": "https://localhost:8080/"
        },
        "id": "mrCAXxsVHgt0",
        "outputId": "b09520dc-f3af-448b-ea17-3b80319cdd46"
      },
      "outputs": [
        {
          "output_type": "stream",
          "name": "stdout",
          "text": [
            "Number of classes: 10\n"
          ]
        }
      ],
      "source": [
        "# List of the names of image classes\n",
        "classes = os.listdir(TIFF_DATA_BASE_PATH)\n",
        "print('Number of classes: {}'.format(len(classes)))"
      ]
    },
    {
      "cell_type": "code",
      "execution_count": 6,
      "metadata": {
        "id": "nNHCW_wTHgt4"
      },
      "outputs": [],
      "source": [
        "# Disctionary of class names with their index as key\n",
        "classes_dict = dict(enumerate(classes))\n",
        "#print('Class names: {}'.format([k for k in classes_dict.values()]))"
      ]
    },
    {
      "cell_type": "code",
      "execution_count": 7,
      "metadata": {
        "colab": {
          "base_uri": "https://localhost:8080/"
        },
        "id": "XXZdXRU_Hgt5",
        "outputId": "f361b1ee-3584-4daf-db1c-71c7c0d4c239"
      },
      "outputs": [
        {
          "output_type": "stream",
          "name": "stdout",
          "text": [
            "Class ID and name:\n"
          ]
        },
        {
          "output_type": "execute_result",
          "data": {
            "text/plain": [
              "{0: 'Industrial',\n",
              " 1: 'AnnualCrop',\n",
              " 2: 'Highway',\n",
              " 3: 'River',\n",
              " 4: 'HerbaceousVegetation',\n",
              " 5: 'Forest',\n",
              " 6: 'SeaLake',\n",
              " 7: 'Residential',\n",
              " 8: 'Pasture',\n",
              " 9: 'PermanentCrop'}"
            ]
          },
          "metadata": {},
          "execution_count": 7
        }
      ],
      "source": [
        "print('Class ID and name:')\n",
        "classes_dict"
      ]
    },
    {
      "cell_type": "markdown",
      "metadata": {
        "id": "Qx6Ee4RMHgt7"
      },
      "source": [
        "## 1 - Define the dataset\n",
        "To train our CNN, we will use part of the data, and we will leave another part out to use for testing the CNN. We will also use a part of the training data to validate the training. Therefore, we will pick samples randomly and split the data into 80% for training (with 10% for validation) and 20% for testing."
      ]
    },
    {
      "cell_type": "markdown",
      "metadata": {
        "id": "QrP7V_vmHgt9"
      },
      "source": [
        "We specify whether image normalization should be performed or not when we create our dataset."
      ]
    },
    {
      "cell_type": "code",
      "execution_count": 8,
      "metadata": {
        "id": "WAkNAXdBHgt9"
      },
      "outputs": [],
      "source": [
        "# Normalize images?\n",
        "NORM_IMG = True"
      ]
    },
    {
      "cell_type": "markdown",
      "metadata": {
        "id": "K28qSZCdHgt_"
      },
      "source": [
        "Our images have 13 channels. In case we do not want to use all of them, we specify the specific channels to use. "
      ]
    },
    {
      "cell_type": "code",
      "execution_count": 9,
      "metadata": {
        "id": "jg1_WNW4HguA"
      },
      "outputs": [],
      "source": [
        "CH_SELECT = True\n",
        "# list of channels to use, indexed from 0 to 12 \n",
        "CH_LST = [1,2,3,7] # 1,2,3,7 = B,G,R,NIR"
      ]
    },
    {
      "cell_type": "markdown",
      "metadata": {
        "id": "GfSFbEmRHguB"
      },
      "source": [
        "Note: We are using Sentinel-2 data, be mindful of the spatial resolution of the chosen channels. See [this link](https://sentinels.copernicus.eu/web/sentinel/user-guides/sentinel-2-msi/resolutions/spatial) for spatial resolutions of Sentinel-2 spectral bands."
      ]
    },
    {
      "cell_type": "markdown",
      "metadata": {
        "id": "I_6xHNelHguD"
      },
      "source": [
        "We create the train/valid/test splits and get the list of classes for each image."
      ]
    },
    {
      "cell_type": "code",
      "execution_count": 10,
      "metadata": {
        "id": "29bkw_rXHguD"
      },
      "outputs": [],
      "source": [
        "# get the images and their class and make the train/valid/test split\n",
        "\n",
        "# Number of classes to use\n",
        "NB_CLS = 3\n",
        "\n",
        "# use a fraction or all( 1 = 100% ) the images for the chosen classes \n",
        "IMG_PROP = 0.7\n",
        "\n",
        "# List of the path to the folder for each class\n",
        "tiff_classes_path = [os.path.join(TIFF_DATA_BASE_PATH, image_cls) for image_cls in classes[:NB_CLS]]\n",
        "   \n",
        "# List of the path to each image\n",
        "tiff_data_list = [os.path.join(images_path, image_id) for images_path in tiff_classes_path \n",
        "                    for image_id in os.listdir(images_path)]\n",
        "np.random.seed(0)\n",
        "tiff_all_data = np.random.choice([k for k,v in enumerate(tiff_data_list)], round(len(tiff_data_list) * IMG_PROP), replace=False)\n",
        "\n",
        "tiff_all_data_list = [tiff_data_list[k] for k in tiff_all_data]\n",
        "\n",
        "# Create the list of test samples with 20% of the images chosen randomly\n",
        "np.random.seed(0)\n",
        "tiff_test_samples = np.random.choice([k for k,v in enumerate(tiff_all_data_list)], \n",
        "                                round(len(tiff_all_data_list) * 0.2), replace=False)\n",
        "\n",
        "# Create the list of validation samples with 10% of the remaining images\n",
        "np.random.seed(0)\n",
        "tiff_valid_samples = np.random.choice([k for k,v in enumerate(tiff_all_data_list) if k not in tiff_test_samples], \n",
        "                                round(len(tiff_all_data_list) * 0.1), replace=False)\n",
        "\n",
        "# Create the list of training samples \n",
        "tiff_train_samples = [k for k,v in enumerate(tiff_all_data_list) if k not in tiff_test_samples]\n",
        "\n",
        "# List of the class for each image\n",
        "tiff_all_classes_list = [os.path.basename(os.path.split(tiff_data_path)[0]) for tiff_data_path in tiff_all_data_list]\n",
        "\n",
        "# list of class for each image for each set\n",
        "tiff_train_class_list = [tiff_all_classes_list[k] for k in tiff_train_samples]\n",
        "tiff_valid_class_list = [tiff_all_classes_list[k] for k in tiff_valid_samples]\n",
        "tiff_test_class_list = [tiff_all_classes_list[k] for k in tiff_test_samples]\n",
        "\n",
        "# list of path to each image for each set\n",
        "tiff_train_data_list = [tiff_all_data_list[k] for k in tiff_train_samples]\n",
        "tiff_valid_data_list = [tiff_all_data_list[k] for k in tiff_valid_samples]\n",
        "tiff_test_data_list = [tiff_all_data_list[k] for k in tiff_test_samples]"
      ]
    },
    {
      "cell_type": "markdown",
      "metadata": {
        "id": "4JW5VdkOHguF"
      },
      "source": [
        "After creating the data set splits, we can look at the proportion of each class in in each split. \n",
        "We want to see whether our datasets are balanced or imbalanced in favor of one or another class."
      ]
    },
    {
      "cell_type": "markdown",
      "metadata": {
        "id": "_XESO6vlHguG"
      },
      "source": [
        "We define a function that counts the number of samples in each class and another one to draw the plot of the values for each data split."
      ]
    },
    {
      "cell_type": "code",
      "execution_count": 11,
      "metadata": {
        "id": "XGTj4a-MHguG"
      },
      "outputs": [],
      "source": [
        "\n",
        "# Function to count the number of samples in each class\n",
        "\n",
        "def get_class_count(samples):\n",
        "\n",
        "    count_dict = {}\n",
        "    \n",
        "    for class_id in classes:\n",
        "        count = 0\n",
        "        for key in samples:\n",
        "            value = tiff_all_classes_list[key]\n",
        "            if value == class_id:\n",
        "                count += 1\n",
        "                count_dict[value] = count\n",
        "                \n",
        "    return(count_dict)\n",
        "        "
      ]
    },
    {
      "cell_type": "markdown",
      "metadata": {
        "id": "VOlrYTcjHguG"
      },
      "source": [
        "We define a function to plot the number of samples in each class."
      ]
    },
    {
      "cell_type": "code",
      "execution_count": 12,
      "metadata": {
        "id": "xnDAKM2VHguH"
      },
      "outputs": [],
      "source": [
        "def plot_from_dict(dict_obj, plot_title, ax, color):\n",
        "    return( ax.bar(range(len(dict_obj)), list(dict_obj.values()), align='center', color=color), \n",
        "                      ax.set_title(plot_title), ax.set_xlabel('classes'), ax.set_ylabel('count'), ax.set_xticks([*range(len(dict_obj))]), \n",
        "           ax.set_xticklabels(dict_obj.keys()))\n",
        "    "
      ]
    },
    {
      "cell_type": "markdown",
      "metadata": {
        "id": "4VqnnHKrHguI"
      },
      "source": [
        "We plot the number of samples in each class for each train/valid/test set"
      ]
    },
    {
      "cell_type": "code",
      "execution_count": 13,
      "metadata": {
        "colab": {
          "base_uri": "https://localhost:8080/",
          "height": 597
        },
        "id": "CtJ8joBmHguJ",
        "outputId": "200b63de-2d59-4223-f3dd-436000365149"
      },
      "outputs": [
        {
          "output_type": "execute_result",
          "data": {
            "text/plain": [
              "(<BarContainer object of 3 artists>,\n",
              " Text(0.5, 1.0, 'Test Set'),\n",
              " Text(0.5, 0, 'classes'),\n",
              " Text(0, 0.5, 'count'),\n",
              " [<matplotlib.axis.XTick at 0x7f18cfaab7d0>,\n",
              "  <matplotlib.axis.XTick at 0x7f18cfaab790>,\n",
              "  <matplotlib.axis.XTick at 0x7f1983120210>],\n",
              " [Text(0, 0, 'Industrial'), Text(0, 0, 'AnnualCrop'), Text(0, 0, 'Highway')])"
            ]
          },
          "metadata": {},
          "execution_count": 13
        },
        {
          "output_type": "display_data",
          "data": {
            "text/plain": [
              "<Figure size 1440x504 with 3 Axes>"
            ],
            "image/png": "[encoded data removed]"
          },
          "metadata": {
            "needs_background": "light"
          }
        }
      ],
      "source": [
        "fig, axes = plt.subplots(nrows=1, ncols=3, figsize=(20,7))\n",
        "\n",
        "my_colors = ['brown','pink', 'red', 'green', 'blue', 'cyan','orange','purple']\n",
        "\n",
        "color_list = np.random.choice(my_colors,3,replace=False)\n",
        "\n",
        "plot_from_dict(get_class_count(tiff_train_samples), plot_title=\"Train Set\", ax=axes[0], color=color_list[0])\n",
        "plot_from_dict(get_class_count(tiff_valid_samples), plot_title=\"Valid Set\", ax=axes[1], color=color_list[1])\n",
        "plot_from_dict(get_class_count(tiff_test_samples), plot_title=\"Test Set\", ax=axes[2], color=color_list[2])"
      ]
    },
    {
      "cell_type": "code",
      "execution_count": 14,
      "metadata": {
        "colab": {
          "base_uri": "https://localhost:8080/"
        },
        "id": "wYdpj7XFHguK",
        "outputId": "0d354da1-fd9b-42cb-c473-4fd483540ed6"
      },
      "outputs": [
        {
          "output_type": "stream",
          "name": "stdout",
          "text": [
            "Number of samples in each split\n"
          ]
        },
        {
          "output_type": "execute_result",
          "data": {
            "text/plain": [
              "(166, 21, 42)"
            ]
          },
          "metadata": {},
          "execution_count": 14
        }
      ],
      "source": [
        "print(\"Number of samples in each split\")\n",
        "len(tiff_train_data_list), len(tiff_valid_data_list), len(tiff_test_data_list)"
      ]
    },
    {
      "cell_type": "markdown",
      "metadata": {
        "id": "WRkNTobdHguK"
      },
      "source": [
        "We create the class to read our data from disk and put it in the right format for our model. We use the Gdal library to read the files from disk."
      ]
    },
    {
      "cell_type": "code",
      "execution_count": 15,
      "metadata": {
        "id": "9SUrWljBHguL"
      },
      "outputs": [],
      "source": [
        "# TIFF image class\n",
        "\n",
        "class TIFFEODataset(Dataset):\n",
        "    \"\"\"EO Dataset of TIFF images. Read images and classes, apply transformations.\n",
        "    \n",
        "    Args:\n",
        "        image_fps (list): list of paths of image files \n",
        "        classest (list): list of corresponding image classes names\n",
        "        transform (callable, optional): Optional transform to be applied on a sample image.\n",
        "    \"\"\"\n",
        "    \n",
        "    def __init__(self, image_paths, classes_list=None, transform=None):\n",
        "        \n",
        "        self.image_fps = image_paths\n",
        "        self.classes = [classes.index(cls) for cls in classes_list]\n",
        "        self.transform = transform\n",
        "       \n",
        "    def __len__(self):\n",
        "        return len(self.image_fps)    \n",
        "    \n",
        "    def __getitem__(self, idx):\n",
        "        \n",
        "        image = gdal.Open(self.image_fps[idx]).ReadAsArray() # array in C x W x H shape\n",
        "        image = image.transpose(2,1,0) # transpose to H x W x C\n",
        "        \n",
        "                  \n",
        "        if NORM_IMG:\n",
        "            # we normalize the image\n",
        "            image = ((image - image.mean()) / image.std()).astype('uint8')\n",
        "            \n",
        "        if self.transform:\n",
        "            image = self.transform(image)\n",
        "            \n",
        "        image = image.transpose(2,1,0) # transpose to C x W x H\n",
        "        class_name = self.classes[idx]\n",
        "        \n",
        "        # if channel list specified\n",
        "        if CH_SELECT:\n",
        "            # select specific channels\n",
        "            image = np.stack([image[i,:,:] for i in CH_LST], axis=0)\n",
        "        \n",
        "        # else default to RGB\n",
        "        else :\n",
        "            image = np.stack([image[i,:,:] for i in [1,2,3]], axis=0)\n",
        "       \n",
        "        return image, class_name"
      ]
    },
    {
      "cell_type": "markdown",
      "metadata": {
        "id": "tN9MWCpcHguM"
      },
      "source": [
        "We create dataset objects for our train, validation and test sets."
      ]
    },
    {
      "cell_type": "code",
      "execution_count": 16,
      "metadata": {
        "id": "HoPDmgS2HguN"
      },
      "outputs": [],
      "source": [
        "tiff_train_dataset = TIFFEODataset(tiff_train_data_list, tiff_train_class_list)\n",
        "tiff_valid_dataset = TIFFEODataset(tiff_valid_data_list, tiff_valid_class_list)\n",
        "tiff_test_dataset = TIFFEODataset(tiff_test_data_list, tiff_test_class_list)"
      ]
    },
    {
      "cell_type": "markdown",
      "metadata": {
        "id": "WHixBQYjHguN"
      },
      "source": [
        "## 2- Load the data"
      ]
    },
    {
      "cell_type": "markdown",
      "metadata": {
        "id": "Y6jxcIyTHguO"
      },
      "source": [
        "We use Pytorch's data loader to read the data and put it in memory in batches."
      ]
    },
    {
      "cell_type": "code",
      "execution_count": 17,
      "metadata": {
        "id": "GOCaFcYbHguP"
      },
      "outputs": [],
      "source": [
        "BATCH_SIZE = 64\n",
        "tiff_train_loader = DataLoader(tiff_train_dataset, batch_size = BATCH_SIZE, shuffle = True)\n",
        "tiff_valid_loader = DataLoader(tiff_valid_dataset, batch_size = 10, shuffle = True)\n",
        "tiff_test_loader = DataLoader(tiff_test_dataset, batch_size = 20, shuffle = False)"
      ]
    },
    {
      "cell_type": "markdown",
      "metadata": {
        "id": "g6Zxd3hkHguQ"
      },
      "source": [
        "## 3- Define the model"
      ]
    },
    {
      "cell_type": "markdown",
      "metadata": {
        "id": "4G0zDxNqHguR"
      },
      "source": [
        "We get the number of channels from the first image in our list of images for the train set."
      ]
    },
    {
      "cell_type": "code",
      "execution_count": 18,
      "metadata": {
        "colab": {
          "base_uri": "https://localhost:8080/"
        },
        "id": "GLDcjDSaHguS",
        "outputId": "630a56e5-bd93-4dd8-fafe-ee880b870628"
      },
      "outputs": [
        {
          "output_type": "stream",
          "name": "stdout",
          "text": [
            "Number of input channels: 4\n"
          ]
        }
      ],
      "source": [
        "# n channel images\n",
        "nb_channels = gdal.Open(tiff_train_data_list[0]).ReadAsArray().shape[0]\n",
        "\n",
        "if not CH_SELECT:\n",
        "    CH_SELECT = [1,2,3]\n",
        "    \n",
        "nb_channels = len(CH_LST)\n",
        "    \n",
        "print('Number of input channels: {}'.format(nb_channels))"
      ]
    },
    {
      "cell_type": "markdown",
      "metadata": {
        "id": "QCHKqXIbHguS"
      },
      "source": [
        "We define out CNN class subclassing the torch.nn.Module."
      ]
    },
    {
      "cell_type": "code",
      "execution_count": 19,
      "metadata": {
        "id": "GmjUjU9JHguT"
      },
      "outputs": [],
      "source": [
        "class CNN(nn.Module):\n",
        "    def __init__(self):\n",
        "        super(CNN, self).__init__()\n",
        "        # convolutional layer (sees 3x64x64 image tensor)\n",
        "        self.conv1 = nn.Conv2d(nb_channels, 32, 7, padding=1)\n",
        "        # convolutional layer (out 32x60x60 tensor)\n",
        "        # pool below layer (out 32x30x30 tensor)\n",
        "        self.conv2 = nn.Conv2d(32, 32, 7, padding=1)\n",
        "        # convolutional layer (out 32x26x26 tensor)\n",
        "        # pool below layer (out 32x13x13 tensor)\n",
        "        self.conv3 = nn.Conv2d(32, 64, 7, padding=1)\n",
        "        # convolutional layer (out 64x9x9 tensor)\n",
        "        # pool below layer (out 64x4x4 tensor)\n",
        "        # max pooling layer\n",
        "        self.pool = nn.MaxPool2d(2, 2)\n",
        "        # linear layer (64 * 4 * 4 -> 500)\n",
        "        self.fc1 = nn.Linear(64 * 4 * 4, 500)\n",
        "        # linear layer (500 -> 10)\n",
        "        self.fc2 = nn.Linear(500, 10)\n",
        "        # dropout layer (p=0.25)\n",
        "        self.dropout = nn.Dropout(0.25)\n",
        "\n",
        "    def forward(self, x):\n",
        "        x = self.pool(F.relu(self.conv1(x)))\n",
        "        x = self.pool(F.relu(self.conv2(x)))\n",
        "        x = self.pool(F.relu(self.conv3(x)))\n",
        "        x = x.view(-1, 64 * 4 * 4)\n",
        "        x = self.dropout(x)\n",
        "        x = F.relu(self.fc1(x))\n",
        "        x = self.dropout(x)\n",
        "        x = self.fc2(x)\n",
        "        return x\n"
      ]
    },
    {
      "cell_type": "markdown",
      "metadata": {
        "id": "Lwlq5FxkHguU"
      },
      "source": [
        "We instantiate our model and print it out."
      ]
    },
    {
      "cell_type": "code",
      "execution_count": 20,
      "metadata": {
        "colab": {
          "base_uri": "https://localhost:8080/"
        },
        "id": "g0_ZPHJCHguU",
        "outputId": "36e45d76-b4d5-463b-d147-6d564c16868a"
      },
      "outputs": [
        {
          "output_type": "stream",
          "name": "stdout",
          "text": [
            "CNN(\n",
            "  (conv1): Conv2d(4, 32, kernel_size=(7, 7), stride=(1, 1), padding=(1, 1))\n",
            "  (conv2): Conv2d(32, 32, kernel_size=(7, 7), stride=(1, 1), padding=(1, 1))\n",
            "  (conv3): Conv2d(32, 64, kernel_size=(7, 7), stride=(1, 1), padding=(1, 1))\n",
            "  (pool): MaxPool2d(kernel_size=2, stride=2, padding=0, dilation=1, ceil_mode=False)\n",
            "  (fc1): Linear(in_features=1024, out_features=500, bias=True)\n",
            "  (fc2): Linear(in_features=500, out_features=10, bias=True)\n",
            "  (dropout): Dropout(p=0.25, inplace=False)\n",
            ")\n"
          ]
        }
      ],
      "source": [
        "tiff_classification_model = CNN()\n",
        "print(tiff_classification_model)"
      ]
    },
    {
      "cell_type": "markdown",
      "metadata": {
        "id": "oKVbgj_cHguW"
      },
      "source": [
        "## 4-  Define testing, training and visualization functions"
      ]
    },
    {
      "cell_type": "markdown",
      "metadata": {
        "id": "0IMemU0VHguW"
      },
      "source": [
        "We define training and testing functions."
      ]
    },
    {
      "cell_type": "code",
      "execution_count": 21,
      "metadata": {
        "id": "yYuX5fT0HguW"
      },
      "outputs": [],
      "source": [
        "# function to train model and save trained model\n",
        "\n",
        "def train_model(current_model, save_path):\n",
        "    # minimun bound for the validation loss\n",
        "    valid_loss_min = np.Inf \n",
        "\n",
        "    # dictionary to keep track of train and validation losses\n",
        "    loss_stats = { 'train': [], 'valid': [] }\n",
        "    \n",
        "    print('Training for {} epochs with {} channels'.format(num_epochs,nb_channels ))\n",
        "\n",
        "    for epoch in range(1, num_epochs+1):\n",
        "\n",
        "        # keep track of training and validation losses\n",
        "        train_loss = 0.0\n",
        "        valid_loss = 0.0\n",
        "\n",
        "        # Put model in train mode\n",
        "        current_model.train()\n",
        "        \n",
        "        # train the model\n",
        "        # loop over the data loader\n",
        "        for data, target in tiff_train_loader:\n",
        "            \n",
        "            # move tensors to the previously selected device\n",
        "            data, target = data.to(device), target.to(device)\n",
        "            # reset the gradients of all optimized variables (learnable weight parameters)\n",
        "            optimizer.zero_grad()\n",
        "            # perform forward pass, get the model predictions for the batch\n",
        "            output = current_model(data.float())\n",
        "            # calculate the batch loss\n",
        "            loss = criterion(output, target)\n",
        "            # perform backward pass, compute gradients of the loss with respect to all the parameters\n",
        "            loss.backward()\n",
        "            # perform an optimization step (parameter update)\n",
        "            optimizer.step()\n",
        "            # update the training loss\n",
        "            train_loss += loss.item()*data.size(0)\n",
        "\n",
        "\n",
        "        # put the model in eval mode (dropout is deactivated)\n",
        "        current_model.eval()\n",
        "        # validate the model on the validation data set\n",
        "        for data, target in tiff_valid_loader:\n",
        "            # move tensors to the previously selected device\n",
        "            data, target = data.to(device), target.to(device)\n",
        "            # perform forward pass, get the model predictions for the batch\n",
        "            output = current_model(data.float())\n",
        "            # calculate the batch loss\n",
        "            loss = criterion(output, target)\n",
        "            # update the validation loss \n",
        "            valid_loss += loss.item()*data.size(0)\n",
        "\n",
        "        # calculate average losses\n",
        "        train_loss = train_loss/len(tiff_train_loader.sampler)\n",
        "        valid_loss = valid_loss/len(tiff_valid_loader.sampler)\n",
        "        \n",
        "        # save loss stats for the epoch into the loss dictionary\n",
        "        loss_stats['train'].append(train_loss)\n",
        "        loss_stats['valid'].append(valid_loss)\n",
        "\n",
        "        # print the epoch's training/validation statistics \n",
        "        print('Epoch: {} \\tTraining Loss: {:.6f} \\tValidation Loss: {:.6f}'.format(\n",
        "            epoch, train_loss, valid_loss))\n",
        "\n",
        "        # save the model if validation loss has decreased from previously lowest loss\n",
        "        if valid_loss <= valid_loss_min:\n",
        "            torch.save(current_model.state_dict(), save_path)\n",
        "            valid_loss_min = valid_loss\n",
        "\n",
        "    # plot train and validation losses\n",
        "    train_val_loss_df = pd.DataFrame.from_dict(loss_stats).reset_index().melt(id_vars=['index']).rename(columns={\"index\":\"epochs\"})\n",
        "    fig, axes = plt.subplots(nrows=1, ncols=1, figsize=(20,6))\n",
        "    axes.set(xticks=train_val_loss_df.epochs.values)\n",
        "    sns.lineplot(data=train_val_loss_df, x = \"epochs\", y=\"value\", hue=\"variable\").set_title('Training and validing losses per epoch')"
      ]
    },
    {
      "cell_type": "code",
      "execution_count": 22,
      "metadata": {
        "id": "gcXN1pU_HguX"
      },
      "outputs": [],
      "source": [
        "# list to keep track of test accuracy\n",
        "test_accuracy_overall = []\n",
        "\n",
        "def test_model(current_model):\n",
        "\n",
        "    # keep track of the test loss\n",
        "    test_loss = 0.0\n",
        "    \n",
        "    # keep track of correct and incorrect classifications for each class\n",
        "    class_correct = list(0. for i in range(10))\n",
        "    class_total = list(0. for i in range(10))\n",
        "\n",
        "    # put the model in eval mode\n",
        "    # all layers know the model is in eval mode \n",
        "    # dropout is deactivated\n",
        "    current_model.eval()\n",
        "    \n",
        "    # deactivate the autograd engine for reduced memory usage\n",
        "    # no backpropagation is performed, gradients are not calculated\n",
        "    with torch.no_grad():\n",
        "        \n",
        "        # iterate over test data\n",
        "        for data, target in tiff_test_loader:\n",
        "            \n",
        "            # move tensors to the previously selected device\n",
        "            data, target = data.to(device), target.to(device)\n",
        "            \n",
        "            # perform forward pass, compute predicted outputs by passing inputs to the model\n",
        "            output = current_model(data.float())\n",
        "            \n",
        "            # calculate the batch loss\n",
        "            loss = criterion(output, target)\n",
        "            \n",
        "            # update the test loss \n",
        "            test_loss += loss.item()*data.size(0)\n",
        "            \n",
        "            # convert output probabilities to predicted class\n",
        "            _, pred = torch.max(output, 1)    \n",
        "            \n",
        "            # compare predictions to true label\n",
        "            correct_tensor = pred.eq(target.data.view_as(pred))\n",
        "            \n",
        "            # Check which device is used to move tensor to cpu if needed\n",
        "            # convert tensor to numpy\n",
        "            if device == 'cpu':\n",
        "                correct = np.squeeze(correct_tensor.numpy())\n",
        "            else:\n",
        "                correct = np.squeeze(correct_tensor.cpu().numpy())\n",
        "            \n",
        "            # calculate the test accuracy for each class\n",
        "            for i in range(len(target.data)):\n",
        "                label = target.data[i]\n",
        "                class_correct[label] += correct[i].item()\n",
        "                class_total[label] += 1\n",
        "\n",
        "    # average test loss\n",
        "    test_loss = test_loss/len(tiff_test_loader.sampler)\n",
        "    print('Test Loss: {:.6f}\\n'.format(test_loss))\n",
        "\n",
        "    # for each class print the statistics  \n",
        "    for i in range(NB_CLS):\n",
        "        if class_total[i] > 0:\n",
        "            print('Test Accuracy of %5s: %2d%% (%2d/%2d)' % (\n",
        "                classes[i], 100 * class_correct[i] / class_total[i],\n",
        "                np.sum(class_correct[i]), np.sum(class_total[i])))\n",
        "        else:\n",
        "            print('Test Accuracy of {}: N/A (no training examples)'.format(classes[i]))\n",
        "    \n",
        "    test_accuracy_overall.append(100 * np.sum(class_correct) / np.sum(class_total))\n",
        "\n",
        "    print('\\nTest Accuracy (Overall): %2d%% (%2d/%2d)' % (\n",
        "        100. * np.sum(class_correct) / np.sum(class_total),\n",
        "        np.sum(class_correct), np.sum(class_total)))"
      ]
    },
    {
      "cell_type": "code",
      "execution_count": 23,
      "metadata": {
        "id": "Ie7HatKxHguZ"
      },
      "outputs": [],
      "source": [
        "# function to visualize images with their predicted class\n",
        "\n",
        "def visualize_results(current_model):\n",
        "    # load a batch of test images\n",
        "    dataiter = iter(tiff_test_loader)\n",
        "    images, labels = dataiter.next()\n",
        "    images.numpy()\n",
        "\n",
        "    # move tensors to the previously selected device\n",
        "    images = images.to(device)\n",
        "\n",
        "    # get the model outputs for the test images\n",
        "    output = current_model(images.float())\n",
        "\n",
        "    # convert output probabilities to predicted class\n",
        "    _, preds_tensor = torch.max(output, 1)\n",
        "\n",
        "    if device == 'cpu':\n",
        "        preds = np.squeeze(preds_tensor.numpy()) \n",
        "    else: \n",
        "        preds = np.squeeze(preds_tensor.cpu().numpy())\n",
        "\n",
        "    fig = plt.figure(figsize=(20, 6))\n",
        "    nb_images = 10\n",
        "\n",
        "    for j in np.arange(nb_images):\n",
        "        ax = fig.add_subplot(2, nb_images/2, j+1, xticks=[], yticks=[])\n",
        "        plt.imshow(np.transpose(images.cpu()[j], (1, 2, 0))[:,:,:3])\n",
        "        ax.set_title(\"{} [{}]\".format(classes[preds[j]], classes[labels[j]]),\n",
        "                     color=(\"blue\" if preds[j]==labels[j].item() else \"purple\"))"
      ]
    },
    {
      "cell_type": "markdown",
      "metadata": {
        "id": "z850XUTqHguZ"
      },
      "source": [
        "## 5- Train the model"
      ]
    },
    {
      "cell_type": "markdown",
      "metadata": {
        "id": "tapRM_g4Hgua"
      },
      "source": [
        "Define training hyperparameters and train the model."
      ]
    },
    {
      "cell_type": "code",
      "execution_count": 24,
      "metadata": {
        "id": "K6sC2VafHgub"
      },
      "outputs": [],
      "source": [
        "# define number of epochs and learning rate\n",
        "num_epochs = 20\n",
        "\n",
        "learning_rate = 0.001"
      ]
    },
    {
      "cell_type": "code",
      "execution_count": 25,
      "metadata": {
        "id": "4YFl_qi5Hgub"
      },
      "outputs": [],
      "source": [
        "# load model on device\n",
        "# define loss function and optimizer\n",
        "tiff_classification_model = tiff_classification_model.to(device)\n",
        "\n",
        "criterion = nn.CrossEntropyLoss()\n",
        "\n",
        "optimizer = torch.optim.Adam(tiff_classification_model.parameters(), lr = learning_rate)"
      ]
    },
    {
      "cell_type": "code",
      "execution_count": 26,
      "metadata": {
        "id": "v5fuX6uDHgud"
      },
      "outputs": [],
      "source": [
        "# define the path to save trained model\n",
        "save_path = 'tiff_simple_CNN.pt'"
      ]
    },
    {
      "cell_type": "code",
      "execution_count": 27,
      "metadata": {
        "colab": {
          "base_uri": "https://localhost:8080/",
          "height": 769
        },
        "id": "L1f1le90Hgue",
        "outputId": "d766b0ea-7eca-4b6e-eac9-da53128c5a5c"
      },
      "outputs": [
        {
          "output_type": "stream",
          "name": "stdout",
          "text": [
            "Training for 20 epochs with 4 channels\n",
            "Epoch: 1 \tTraining Loss: 4.430569 \tValidation Loss: 2.367040\n",
            "Epoch: 2 \tTraining Loss: 2.196262 \tValidation Loss: 1.928695\n",
            "Epoch: 3 \tTraining Loss: 1.921715 \tValidation Loss: 1.677448\n",
            "Epoch: 4 \tTraining Loss: 1.509003 \tValidation Loss: 1.229017\n",
            "Epoch: 5 \tTraining Loss: 1.287384 \tValidation Loss: 1.032226\n",
            "Epoch: 6 \tTraining Loss: 1.196702 \tValidation Loss: 0.945097\n",
            "Epoch: 7 \tTraining Loss: 1.104608 \tValidation Loss: 1.009326\n",
            "Epoch: 8 \tTraining Loss: 0.929249 \tValidation Loss: 0.864100\n",
            "Epoch: 9 \tTraining Loss: 0.894405 \tValidation Loss: 0.695013\n",
            "Epoch: 10 \tTraining Loss: 0.777779 \tValidation Loss: 0.680582\n",
            "Epoch: 11 \tTraining Loss: 0.682375 \tValidation Loss: 0.507389\n",
            "Epoch: 12 \tTraining Loss: 0.598608 \tValidation Loss: 0.380360\n",
            "Epoch: 13 \tTraining Loss: 0.494247 \tValidation Loss: 0.331282\n",
            "Epoch: 14 \tTraining Loss: 0.416258 \tValidation Loss: 0.212735\n",
            "Epoch: 15 \tTraining Loss: 0.367766 \tValidation Loss: 0.153974\n",
            "Epoch: 16 \tTraining Loss: 0.300962 \tValidation Loss: 0.129458\n",
            "Epoch: 17 \tTraining Loss: 0.279729 \tValidation Loss: 0.103660\n",
            "Epoch: 18 \tTraining Loss: 0.242960 \tValidation Loss: 0.090294\n",
            "Epoch: 19 \tTraining Loss: 0.204303 \tValidation Loss: 0.082485\n",
            "Epoch: 20 \tTraining Loss: 0.189297 \tValidation Loss: 0.075182\n"
          ]
        },
        {
          "output_type": "display_data",
          "data": {
            "text/plain": [
              "<Figure size 1440x432 with 1 Axes>"
            ],
            "image/png": "[encoded data removed]"
          },
          "metadata": {
            "needs_background": "light"
          }
        }
      ],
      "source": [
        "# list to keep track of train time\n",
        "train_time = []\n",
        "\n",
        "# train the model and save the best model\n",
        "t_start = time.time()\n",
        "\n",
        "train_model(tiff_classification_model,save_path)\n",
        "\n",
        "t_final = time.time()\n",
        "\n",
        "train_time.append(t_final - t_start) "
      ]
    },
    {
      "cell_type": "markdown",
      "metadata": {
        "id": "LU7vAAdWHgug"
      },
      "source": [
        "## 6- Test the model"
      ]
    },
    {
      "cell_type": "markdown",
      "metadata": {
        "id": "DGhnjNkhHgug"
      },
      "source": [
        "Load the save model and test it on the test dataset."
      ]
    },
    {
      "cell_type": "code",
      "execution_count": 28,
      "metadata": {
        "colab": {
          "base_uri": "https://localhost:8080/"
        },
        "id": "EuyVhNnbHguh",
        "outputId": "260ac202-e3f1-4608-857e-b64634d3e43e"
      },
      "outputs": [
        {
          "output_type": "execute_result",
          "data": {
            "text/plain": [
              "<All keys matched successfully>"
            ]
          },
          "metadata": {},
          "execution_count": 28
        }
      ],
      "source": [
        "tiff_classification_model.load_state_dict(torch.load(save_path))"
      ]
    },
    {
      "cell_type": "code",
      "execution_count": 29,
      "metadata": {
        "colab": {
          "base_uri": "https://localhost:8080/"
        },
        "id": "64ctO9udHgui",
        "outputId": "5ca9ae5e-ccdb-4e23-8cab-6bfbca220027"
      },
      "outputs": [
        {
          "output_type": "stream",
          "name": "stdout",
          "text": [
            "Test Loss: 1.899119\n",
            "\n",
            "Test Accuracy of Industrial: 53% ( 7/13)\n",
            "Test Accuracy of AnnualCrop: 78% (11/14)\n",
            "Test Accuracy of Highway: 33% ( 5/15)\n",
            "\n",
            "Test Accuracy (Overall): 54% (23/42)\n"
          ]
        }
      ],
      "source": [
        "test_model(tiff_classification_model)"
      ]
    },
    {
      "cell_type": "markdown",
      "metadata": {
        "id": "XHFqinH7Hguj"
      },
      "source": [
        "## 7- Visualize sample results"
      ]
    },
    {
      "cell_type": "markdown",
      "metadata": {
        "id": "LpaHXVf4Hguj"
      },
      "source": [
        "Visualize some results from the test set, showing first three channels of normalized images."
      ]
    },
    {
      "cell_type": "code",
      "execution_count": 30,
      "metadata": {
        "colab": {
          "base_uri": "https://localhost:8080/",
          "height": 54
        },
        "id": "lNM4sue-Hguk",
        "outputId": "c6f73dec-bd35-4159-c204-7e0e2698b55e"
      },
      "outputs": [
        {
          "output_type": "display_data",
          "data": {
            "text/plain": [
              "<Figure size 1440x432 with 10 Axes>"
            ],
            "image/png": "[encoded data removed]"
          },
          "metadata": {}
        }
      ],
      "source": [
        "visualize_results(tiff_classification_model)"
      ]
    },
    {
      "cell_type": "code",
      "execution_count": 31,
      "metadata": {
        "id": "PBBMB4rmHgul"
      },
      "outputs": [],
      "source": [
        "# delete the model to free memory\n",
        "del tiff_classification_model"
      ]
    },
    {
      "cell_type": "markdown",
      "metadata": {
        "id": "nJ2vorMnHgum"
      },
      "source": [
        "# 8 - Test with different values of hyperparameters"
      ]
    },
    {
      "cell_type": "code",
      "execution_count": 32,
      "metadata": {
        "id": "1xXU-YsmHgum"
      },
      "outputs": [],
      "source": [
        "tiff_classification_model2 = CNN()\n",
        "tiff_classification_model2 = tiff_classification_model2.to(device)\n",
        "\n",
        "# Try different learning rate\n",
        "learning_rate = 0.0001  \n",
        "\n",
        "# Try different number of epochs\n",
        "num_epochs = 50\n",
        "\n",
        "# Try different loss function\n",
        "criterion = nn.CrossEntropyLoss()\n",
        "\n",
        "# Try different optimizer \n",
        "optimizer = torch.optim.AdamW(tiff_classification_model2.parameters(), lr=learning_rate)\n",
        "\n",
        "# Try different batch sizes\n",
        "BATCH_SIZE = 64\n",
        "tiff_train_loader = DataLoader(tiff_train_dataset, batch_size = BATCH_SIZE, shuffle = True)\n",
        "tiff_valid_loader = DataLoader(tiff_valid_dataset, batch_size = 10, shuffle = True)\n",
        "tiff_test_loader = DataLoader(tiff_test_dataset, batch_size = 20, shuffle = False)\n",
        "\n",
        "# path to save new model\n",
        "save_path = 'tiff_simple_CNN2.pt'"
      ]
    },
    {
      "cell_type": "code",
      "execution_count": 33,
      "metadata": {
        "colab": {
          "base_uri": "https://localhost:8080/",
          "height": 1000
        },
        "id": "Z-cBF_zYHgun",
        "outputId": "fc2d21b4-3123-43e7-c0a6-ea30c3feedb5"
      },
      "outputs": [
        {
          "output_type": "stream",
          "name": "stdout",
          "text": [
            "Training for 50 epochs with 4 channels\n",
            "Epoch: 1 \tTraining Loss: 2.753058 \tValidation Loss: 1.385092\n",
            "Epoch: 2 \tTraining Loss: 1.644953 \tValidation Loss: 1.161495\n",
            "Epoch: 3 \tTraining Loss: 1.396014 \tValidation Loss: 1.130118\n",
            "Epoch: 4 \tTraining Loss: 1.234847 \tValidation Loss: 0.994342\n",
            "Epoch: 5 \tTraining Loss: 1.099470 \tValidation Loss: 0.892983\n",
            "Epoch: 6 \tTraining Loss: 1.044358 \tValidation Loss: 0.812998\n",
            "Epoch: 7 \tTraining Loss: 0.947845 \tValidation Loss: 0.762554\n",
            "Epoch: 8 \tTraining Loss: 0.859063 \tValidation Loss: 0.703082\n",
            "Epoch: 9 \tTraining Loss: 0.856083 \tValidation Loss: 0.659989\n",
            "Epoch: 10 \tTraining Loss: 0.762538 \tValidation Loss: 0.615937\n",
            "Epoch: 11 \tTraining Loss: 0.724738 \tValidation Loss: 0.565746\n",
            "Epoch: 12 \tTraining Loss: 0.689268 \tValidation Loss: 0.527856\n",
            "Epoch: 13 \tTraining Loss: 0.652788 \tValidation Loss: 0.488701\n",
            "Epoch: 14 \tTraining Loss: 0.619937 \tValidation Loss: 0.461699\n",
            "Epoch: 15 \tTraining Loss: 0.603573 \tValidation Loss: 0.436897\n",
            "Epoch: 16 \tTraining Loss: 0.600327 \tValidation Loss: 0.391563\n",
            "Epoch: 17 \tTraining Loss: 0.543117 \tValidation Loss: 0.362400\n",
            "Epoch: 18 \tTraining Loss: 0.546965 \tValidation Loss: 0.345764\n",
            "Epoch: 19 \tTraining Loss: 0.513742 \tValidation Loss: 0.342051\n",
            "Epoch: 20 \tTraining Loss: 0.522563 \tValidation Loss: 0.312590\n",
            "Epoch: 21 \tTraining Loss: 0.478780 \tValidation Loss: 0.289160\n",
            "Epoch: 22 \tTraining Loss: 0.507299 \tValidation Loss: 0.277409\n",
            "Epoch: 23 \tTraining Loss: 0.498716 \tValidation Loss: 0.279982\n",
            "Epoch: 24 \tTraining Loss: 0.457773 \tValidation Loss: 0.271439\n",
            "Epoch: 25 \tTraining Loss: 0.437938 \tValidation Loss: 0.257961\n",
            "Epoch: 26 \tTraining Loss: 0.441706 \tValidation Loss: 0.247115\n",
            "Epoch: 27 \tTraining Loss: 0.408541 \tValidation Loss: 0.239147\n",
            "Epoch: 28 \tTraining Loss: 0.409237 \tValidation Loss: 0.239123\n",
            "Epoch: 29 \tTraining Loss: 0.405226 \tValidation Loss: 0.229500\n",
            "Epoch: 30 \tTraining Loss: 0.414814 \tValidation Loss: 0.215462\n",
            "Epoch: 31 \tTraining Loss: 0.384140 \tValidation Loss: 0.210544\n",
            "Epoch: 32 \tTraining Loss: 0.418924 \tValidation Loss: 0.205812\n",
            "Epoch: 33 \tTraining Loss: 0.380960 \tValidation Loss: 0.224389\n",
            "Epoch: 34 \tTraining Loss: 0.396343 \tValidation Loss: 0.196344\n",
            "Epoch: 35 \tTraining Loss: 0.368571 \tValidation Loss: 0.184414\n",
            "Epoch: 36 \tTraining Loss: 0.401429 \tValidation Loss: 0.179858\n",
            "Epoch: 37 \tTraining Loss: 0.370284 \tValidation Loss: 0.181620\n",
            "Epoch: 38 \tTraining Loss: 0.350236 \tValidation Loss: 0.209190\n",
            "Epoch: 39 \tTraining Loss: 0.398291 \tValidation Loss: 0.173089\n",
            "Epoch: 40 \tTraining Loss: 0.337348 \tValidation Loss: 0.164435\n",
            "Epoch: 41 \tTraining Loss: 0.386384 \tValidation Loss: 0.163033\n",
            "Epoch: 42 \tTraining Loss: 0.325801 \tValidation Loss: 0.161970\n",
            "Epoch: 43 \tTraining Loss: 0.343834 \tValidation Loss: 0.163883\n",
            "Epoch: 44 \tTraining Loss: 0.383637 \tValidation Loss: 0.156735\n",
            "Epoch: 45 \tTraining Loss: 0.308598 \tValidation Loss: 0.152561\n",
            "Epoch: 46 \tTraining Loss: 0.343330 \tValidation Loss: 0.144465\n",
            "Epoch: 47 \tTraining Loss: 0.316125 \tValidation Loss: 0.139624\n",
            "Epoch: 48 \tTraining Loss: 0.297807 \tValidation Loss: 0.136763\n",
            "Epoch: 49 \tTraining Loss: 0.310291 \tValidation Loss: 0.128675\n",
            "Epoch: 50 \tTraining Loss: 0.266854 \tValidation Loss: 0.120555\n"
          ]
        },
        {
          "output_type": "display_data",
          "data": {
            "text/plain": [
              "<Figure size 1440x432 with 1 Axes>"
            ],
            "image/png": "[encoded data removed]"
          },
          "metadata": {
            "needs_background": "light"
          }
        }
      ],
      "source": [
        "t_start = time.time()\n",
        "\n",
        "train_model(tiff_classification_model2, save_path)\n",
        "\n",
        "t_final = time.time()\n",
        "\n",
        "train_time.append(t_final - t_start) "
      ]
    },
    {
      "cell_type": "code",
      "execution_count": 34,
      "metadata": {
        "colab": {
          "base_uri": "https://localhost:8080/"
        },
        "id": "38maaA1CHguo",
        "outputId": "5ee79223-a7f3-48ea-ea20-2fc03232cfe2"
      },
      "outputs": [
        {
          "output_type": "execute_result",
          "data": {
            "text/plain": [
              "<All keys matched successfully>"
            ]
          },
          "metadata": {},
          "execution_count": 34
        }
      ],
      "source": [
        "tiff_classification_model2.load_state_dict(torch.load(save_path))"
      ]
    },
    {
      "cell_type": "code",
      "execution_count": 35,
      "metadata": {
        "colab": {
          "base_uri": "https://localhost:8080/"
        },
        "id": "ZYkUSifVHguo",
        "outputId": "0bd49141-7cba-4d4a-b336-476ebed7b1c5"
      },
      "outputs": [
        {
          "output_type": "stream",
          "name": "stdout",
          "text": [
            "Test Loss: 1.589977\n",
            "\n",
            "Test Accuracy of Industrial: 69% ( 9/13)\n",
            "Test Accuracy of AnnualCrop: 42% ( 6/14)\n",
            "Test Accuracy of Highway: 46% ( 7/15)\n",
            "\n",
            "Test Accuracy (Overall): 52% (22/42)\n"
          ]
        }
      ],
      "source": [
        "test_model(tiff_classification_model2)"
      ]
    },
    {
      "cell_type": "code",
      "execution_count": 36,
      "metadata": {
        "id": "mV4rdexNHgup"
      },
      "outputs": [],
      "source": [
        "del tiff_classification_model2"
      ]
    },
    {
      "cell_type": "markdown",
      "metadata": {
        "id": "7fNfITI5Hguq"
      },
      "source": [
        "## 9- Augment images"
      ]
    },
    {
      "cell_type": "markdown",
      "metadata": {
        "id": "ZB_oEd1EHgur"
      },
      "source": [
        "We can augment the data by applyig random transformations like rotation and flip."
      ]
    },
    {
      "cell_type": "code",
      "execution_count": 37,
      "metadata": {
        "id": "zF1Hd80LHgur"
      },
      "outputs": [],
      "source": [
        "# image augmentation, random flip and rotation in addition to normalization\n",
        "\n",
        "class RandomFlip(object):\n",
        "    \"\"\"Flip randomly the images in a sample.\"\"\"\n",
        "\n",
        "    def __call__(self, sample):\n",
        "        image = sample\n",
        "        \n",
        "        if random.random() > 0.5:\n",
        "            image =  image[:,::-1,:].copy()\n",
        "        return image\n",
        "\n",
        "\n",
        "\n",
        "class RandomRotation(object):\n",
        "    \"\"\"Rotate randomly the images in a sample.\"\"\"\n",
        "\n",
        "    def __call__(self, sample):\n",
        "        image = sample\n",
        "        \n",
        "        n = random.randint(0, 3)\n",
        "        if n:\n",
        "            image = np.rot90(image, n, axes=(0,1)).copy()\n",
        "        return image\n",
        "    \n",
        "transform = transforms.Compose([RandomFlip(), RandomRotation()])"
      ]
    },
    {
      "cell_type": "markdown",
      "metadata": {
        "id": "0VSwdGvWHgus"
      },
      "source": [
        "We recreate the dataset with the newly defined transforms."
      ]
    },
    {
      "cell_type": "code",
      "execution_count": 38,
      "metadata": {
        "id": "ksbgvqwAHgut"
      },
      "outputs": [],
      "source": [
        "tiff_train_dataset = TIFFEODataset(tiff_train_data_list, tiff_train_class_list, transform=transform)\n",
        "tiff_valid_dataset = TIFFEODataset(tiff_valid_data_list, tiff_valid_class_list, transform=None)\n",
        "tiff_test_dataset = TIFFEODataset(tiff_test_data_list, tiff_test_class_list, transform=None)\n",
        "\n",
        "#BATCH_SIZE = 64\n",
        "tiff_train_loader = DataLoader(tiff_train_dataset, batch_size = BATCH_SIZE, shuffle = True)\n",
        "tiff_valid_loader = DataLoader(tiff_valid_dataset, batch_size = 10, shuffle = True)\n",
        "tiff_test_loader = DataLoader(tiff_test_dataset, batch_size = 20, shuffle = True)"
      ]
    },
    {
      "cell_type": "code",
      "execution_count": 39,
      "metadata": {
        "id": "w6mQWO9MHgut"
      },
      "outputs": [],
      "source": [
        "# Instantiate model\n",
        "tiff_classification_model4 = CNN()\n",
        "tiff_classification_model4 = tiff_classification_model4.to(device)"
      ]
    },
    {
      "cell_type": "code",
      "execution_count": 40,
      "metadata": {
        "id": "v-FQfuavHguu"
      },
      "outputs": [],
      "source": [
        "# set path to save trained model\n",
        "save_path = 'tiff_simple_CNN4.pt'"
      ]
    },
    {
      "cell_type": "code",
      "execution_count": 41,
      "metadata": {
        "colab": {
          "base_uri": "https://localhost:8080/",
          "height": 942
        },
        "id": "f9Hy7SwFHguw",
        "outputId": "a3c7a5bc-46ee-46d6-d2a3-38d237fe41e1"
      },
      "outputs": [
        {
          "output_type": "stream",
          "name": "stdout",
          "text": [
            "Training for 30 epochs with 4 channels\n",
            "Epoch: 1 \tTraining Loss: 2.230363 \tValidation Loss: 1.589382\n",
            "Epoch: 2 \tTraining Loss: 1.796691 \tValidation Loss: 1.144415\n",
            "Epoch: 3 \tTraining Loss: 1.573667 \tValidation Loss: 1.114165\n",
            "Epoch: 4 \tTraining Loss: 1.335277 \tValidation Loss: 1.104304\n",
            "Epoch: 5 \tTraining Loss: 1.306164 \tValidation Loss: 1.122632\n",
            "Epoch: 6 \tTraining Loss: 1.248231 \tValidation Loss: 1.061067\n",
            "Epoch: 7 \tTraining Loss: 1.282443 \tValidation Loss: 1.003999\n",
            "Epoch: 8 \tTraining Loss: 1.216656 \tValidation Loss: 0.955568\n",
            "Epoch: 9 \tTraining Loss: 1.141301 \tValidation Loss: 0.924639\n",
            "Epoch: 10 \tTraining Loss: 1.097828 \tValidation Loss: 0.894385\n",
            "Epoch: 11 \tTraining Loss: 1.125341 \tValidation Loss: 0.868222\n",
            "Epoch: 12 \tTraining Loss: 1.072347 \tValidation Loss: 0.816176\n",
            "Epoch: 13 \tTraining Loss: 1.061737 \tValidation Loss: 0.797005\n",
            "Epoch: 14 \tTraining Loss: 1.085381 \tValidation Loss: 0.792330\n",
            "Epoch: 15 \tTraining Loss: 1.035044 \tValidation Loss: 0.786013\n",
            "Epoch: 16 \tTraining Loss: 1.041019 \tValidation Loss: 0.771486\n",
            "Epoch: 17 \tTraining Loss: 1.016247 \tValidation Loss: 0.755945\n",
            "Epoch: 18 \tTraining Loss: 0.978035 \tValidation Loss: 0.760985\n",
            "Epoch: 19 \tTraining Loss: 0.966072 \tValidation Loss: 0.746528\n",
            "Epoch: 20 \tTraining Loss: 0.976397 \tValidation Loss: 0.727547\n",
            "Epoch: 21 \tTraining Loss: 0.937357 \tValidation Loss: 0.702861\n",
            "Epoch: 22 \tTraining Loss: 0.965195 \tValidation Loss: 0.667848\n",
            "Epoch: 23 \tTraining Loss: 0.911199 \tValidation Loss: 0.657429\n",
            "Epoch: 24 \tTraining Loss: 0.885459 \tValidation Loss: 0.617499\n",
            "Epoch: 25 \tTraining Loss: 0.891312 \tValidation Loss: 0.617436\n",
            "Epoch: 26 \tTraining Loss: 0.933706 \tValidation Loss: 0.592057\n",
            "Epoch: 27 \tTraining Loss: 0.894157 \tValidation Loss: 0.583495\n",
            "Epoch: 28 \tTraining Loss: 0.899286 \tValidation Loss: 0.600422\n",
            "Epoch: 29 \tTraining Loss: 0.843848 \tValidation Loss: 0.573320\n",
            "Epoch: 30 \tTraining Loss: 0.822992 \tValidation Loss: 0.566610\n"
          ]
        },
        {
          "output_type": "display_data",
          "data": {
            "text/plain": [
              "<Figure size 1440x432 with 1 Axes>"
            ],
            "image/png": "[encoded data removed]"
          },
          "metadata": {
            "needs_background": "light"
          }
        }
      ],
      "source": [
        "# set number of epochs and optimizer\n",
        "\n",
        "num_epochs = 30\n",
        "\n",
        "optimizer = torch.optim.AdamW(tiff_classification_model4.parameters(), lr=learning_rate)\n",
        "\n",
        "# Train the model and get the training time\n",
        "t_start = time.time()\n",
        "\n",
        "train_model(tiff_classification_model4, save_path)\n",
        "\n",
        "t_final = time.time()\n",
        "\n",
        "train_time.append(t_final - t_start) "
      ]
    },
    {
      "cell_type": "code",
      "execution_count": 42,
      "metadata": {
        "colab": {
          "base_uri": "https://localhost:8080/"
        },
        "id": "i10OaL4cHgux",
        "outputId": "62ca973d-4175-4e4f-b8b4-b2e79494a642"
      },
      "outputs": [
        {
          "output_type": "execute_result",
          "data": {
            "text/plain": [
              "<All keys matched successfully>"
            ]
          },
          "metadata": {},
          "execution_count": 42
        }
      ],
      "source": [
        "tiff_classification_model4.load_state_dict(torch.load(save_path))"
      ]
    },
    {
      "cell_type": "code",
      "execution_count": 43,
      "metadata": {
        "colab": {
          "base_uri": "https://localhost:8080/"
        },
        "id": "VQQEErt7Hgux",
        "outputId": "31b396de-3329-45af-f9b7-aa0178e2f03b"
      },
      "outputs": [
        {
          "output_type": "stream",
          "name": "stdout",
          "text": [
            "Test Loss: 1.094986\n",
            "\n",
            "Test Accuracy of Industrial: 69% ( 9/13)\n",
            "Test Accuracy of AnnualCrop: 50% ( 7/14)\n",
            "Test Accuracy of Highway: 60% ( 9/15)\n",
            "\n",
            "Test Accuracy (Overall): 59% (25/42)\n"
          ]
        }
      ],
      "source": [
        "test_model(tiff_classification_model4)"
      ]
    },
    {
      "cell_type": "code",
      "execution_count": 44,
      "metadata": {
        "id": "X_T9nhv_Hgux"
      },
      "outputs": [],
      "source": [
        "del tiff_classification_model4"
      ]
    },
    {
      "cell_type": "markdown",
      "metadata": {
        "id": "YhR6fPAqHguz"
      },
      "source": [
        "## 10 - Update the model number of layers, filter size"
      ]
    },
    {
      "cell_type": "markdown",
      "metadata": {
        "id": "vgCMgWPEHguz"
      },
      "source": [
        "We create a new CNN with four convolutional layers, each with 3x3 kernels."
      ]
    },
    {
      "cell_type": "code",
      "execution_count": 45,
      "metadata": {
        "id": "KfMQHd81Hgu0"
      },
      "outputs": [],
      "source": [
        "# deeper model with more conv layers\n",
        "# 5 conv layers instead of 3\n",
        "class CNN2(nn.Module):\n",
        "    def __init__(self):\n",
        "        super(CNN2, self).__init__()\n",
        "        # convolutional layer (sees 3x64x64 image tensor)\n",
        "        self.conv1 = nn.Conv2d(nb_channels, 32, 3, padding=1)\n",
        "        # convolutional layer (out 32x64x64 tensor)\n",
        "        # poll below layer (out 32x32x32 tensor)\n",
        "        self.conv2 = nn.Conv2d(32, 32, 3, padding=1)\n",
        "        # convolutional layer (out 32x32x32 tensor)\n",
        "        # pool below layer (out 32x16x16 tensor)\n",
        "        self.conv3 = nn.Conv2d(32, 64, 3, padding=1)\n",
        "        # convolutional layer (out 64x16x16 tensor)\n",
        "        # pool below layer (out 64x8x8 tensor)\n",
        "        self.conv4 = nn.Conv2d(64, 64, 3, padding=1)\n",
        "        # convolutional layer (out 64x8x8 tensor)\n",
        "        # pool below layer (out 64x4x4 tensor)\n",
        "        # max pooling layer\n",
        "        self.pool = nn.MaxPool2d(2, 2)\n",
        "        # linear layer (64 * 4 * 4 -> 500)\n",
        "        self.fc1 = nn.Linear(64 * 4 * 4, 500)\n",
        "        # linear layer (500 -> 10)\n",
        "        self.fc2 = nn.Linear(500, 10)\n",
        "        # dropout layer (p=0.25)\n",
        "        self.dropout = nn.Dropout(0.25)\n",
        "\n",
        "    def forward(self, x):\n",
        "        # pass through each conv followed by pool layers\n",
        "        x = self.pool(F.relu(self.conv1(x)))\n",
        "        x = self.pool(F.relu(self.conv2(x)))\n",
        "        x = self.pool(F.relu(self.conv3(x)))\n",
        "        x = self.pool(F.relu(self.conv4(x)))\n",
        "        # flatten the output of the last conv-pool\n",
        "        x = x.view(-1, 64 * 4 * 4)\n",
        "        # dropout added to prevent overfitting\n",
        "        x = self.dropout(x)\n",
        "        x = F.relu(self.fc1(x))\n",
        "        x = self.dropout(x)\n",
        "        x = self.fc2(x)\n",
        "        return x"
      ]
    },
    {
      "cell_type": "code",
      "execution_count": 46,
      "metadata": {
        "id": "VFwPvpSdHgu0"
      },
      "outputs": [],
      "source": [
        "#instantiate model\n",
        "tiff_classification_model5 = CNN2()\n",
        "\n",
        "# put model on device\n",
        "tiff_classification_model5 = tiff_classification_model5.to(device)\n",
        "\n",
        "# Try different learning rate\n",
        "learning_rate = 0.0001  \n",
        "\n",
        "# Try different number of epochs\n",
        "num_epochs = 20\n",
        "\n",
        "# Try different loss function\n",
        "criterion = nn.CrossEntropyLoss()\n",
        "\n",
        "# Try different optimizer \n",
        "optimizer = torch.optim.AdamW(tiff_classification_model5.parameters(), lr=learning_rate)\n",
        "\n",
        "# Normalize with dataset values?\n",
        "DATASET_NORM_IMG = False\n",
        "\n",
        "# Define dataset with transforms\n",
        "tiff_train_dataset = TIFFEODataset(tiff_train_data_list, tiff_train_class_list, transform=transform)\n",
        "tiff_valid_dataset = TIFFEODataset(tiff_valid_data_list, tiff_valid_class_list, transform=None)\n",
        "tiff_test_dataset = TIFFEODataset(tiff_test_data_list, tiff_test_class_list, transform=None)\n",
        "\n",
        "# Try different batch sizes\n",
        "BATCH_SIZE = 64\n",
        "tiff_train_loader = DataLoader(tiff_train_dataset, batch_size = BATCH_SIZE, shuffle = True)\n",
        "tiff_valid_loader = DataLoader(tiff_valid_dataset, batch_size = 10, shuffle = True)\n",
        "tiff_test_loader = DataLoader(tiff_test_dataset, batch_size = 20, shuffle = False)\n",
        "\n",
        "# path to save new model\n",
        "save_path = 'tiff_simple_CNN5.pt'"
      ]
    },
    {
      "cell_type": "code",
      "execution_count": 47,
      "metadata": {
        "colab": {
          "base_uri": "https://localhost:8080/",
          "height": 769
        },
        "id": "Ipmsi3PiHgu2",
        "outputId": "249bb11a-b755-487d-c688-57d9d323afff"
      },
      "outputs": [
        {
          "output_type": "stream",
          "name": "stdout",
          "text": [
            "Training for 20 epochs with 4 channels\n",
            "Epoch: 1 \tTraining Loss: 1.963990 \tValidation Loss: 1.526449\n",
            "Epoch: 2 \tTraining Loss: 1.729303 \tValidation Loss: 1.423843\n",
            "Epoch: 3 \tTraining Loss: 1.539160 \tValidation Loss: 1.208899\n",
            "Epoch: 4 \tTraining Loss: 1.315235 \tValidation Loss: 1.150790\n",
            "Epoch: 5 \tTraining Loss: 1.390858 \tValidation Loss: 1.124829\n",
            "Epoch: 6 \tTraining Loss: 1.342761 \tValidation Loss: 1.168576\n",
            "Epoch: 7 \tTraining Loss: 1.263124 \tValidation Loss: 1.094854\n",
            "Epoch: 8 \tTraining Loss: 1.279997 \tValidation Loss: 1.031634\n",
            "Epoch: 9 \tTraining Loss: 1.258212 \tValidation Loss: 0.993731\n",
            "Epoch: 10 \tTraining Loss: 1.199430 \tValidation Loss: 1.001143\n",
            "Epoch: 11 \tTraining Loss: 1.134884 \tValidation Loss: 1.000942\n",
            "Epoch: 12 \tTraining Loss: 1.138789 \tValidation Loss: 1.000047\n",
            "Epoch: 13 \tTraining Loss: 1.184928 \tValidation Loss: 0.939291\n",
            "Epoch: 14 \tTraining Loss: 1.141082 \tValidation Loss: 0.866625\n",
            "Epoch: 15 \tTraining Loss: 1.100152 \tValidation Loss: 0.857908\n",
            "Epoch: 16 \tTraining Loss: 1.035166 \tValidation Loss: 0.848207\n",
            "Epoch: 17 \tTraining Loss: 1.083091 \tValidation Loss: 0.827113\n",
            "Epoch: 18 \tTraining Loss: 1.046314 \tValidation Loss: 0.814935\n",
            "Epoch: 19 \tTraining Loss: 1.024687 \tValidation Loss: 0.775965\n",
            "Epoch: 20 \tTraining Loss: 1.033347 \tValidation Loss: 0.762019\n"
          ]
        },
        {
          "output_type": "display_data",
          "data": {
            "text/plain": [
              "<Figure size 1440x432 with 1 Axes>"
            ],
            "image/png": "[encoded data removed]"
          },
          "metadata": {
            "needs_background": "light"
          }
        }
      ],
      "source": [
        "# Train the model and know the training time\n",
        "t_start = time.time()\n",
        "\n",
        "train_model(tiff_classification_model5, save_path)\n",
        "\n",
        "t_final = time.time()\n",
        "\n",
        "train_time.append(t_final - t_start) "
      ]
    },
    {
      "cell_type": "code",
      "execution_count": 48,
      "metadata": {
        "colab": {
          "base_uri": "https://localhost:8080/"
        },
        "id": "V26bUbblHgu3",
        "outputId": "9edcd017-dc97-4def-ff89-a88fe6d6ebdb"
      },
      "outputs": [
        {
          "output_type": "execute_result",
          "data": {
            "text/plain": [
              "<All keys matched successfully>"
            ]
          },
          "metadata": {},
          "execution_count": 48
        }
      ],
      "source": [
        "tiff_classification_model5.load_state_dict(torch.load(save_path))"
      ]
    },
    {
      "cell_type": "code",
      "execution_count": 49,
      "metadata": {
        "colab": {
          "base_uri": "https://localhost:8080/"
        },
        "id": "co10hxy6Hgu3",
        "outputId": "7354ecaf-48d6-4c89-af50-cac21ff958dd"
      },
      "outputs": [
        {
          "output_type": "stream",
          "name": "stdout",
          "text": [
            "Test Loss: 0.997448\n",
            "\n",
            "Test Accuracy of Industrial: 84% (11/13)\n",
            "Test Accuracy of AnnualCrop: 71% (10/14)\n",
            "Test Accuracy of Highway: 53% ( 8/15)\n",
            "\n",
            "Test Accuracy (Overall): 69% (29/42)\n"
          ]
        }
      ],
      "source": [
        "test_model(tiff_classification_model5)"
      ]
    },
    {
      "cell_type": "code",
      "execution_count": 50,
      "metadata": {
        "id": "7SurQ5jrHgu4"
      },
      "outputs": [],
      "source": [
        "del tiff_classification_model5"
      ]
    },
    {
      "cell_type": "markdown",
      "metadata": {
        "id": "pH1cL5ERHgu4"
      },
      "source": [
        "## 11- Use a state of the art model from torchivision"
      ]
    },
    {
      "cell_type": "markdown",
      "metadata": {
        "id": "TzM1DyAxHgu5"
      },
      "source": [
        "We will use resnet18 and start by traning it only on our data without any pre-training."
      ]
    },
    {
      "cell_type": "code",
      "execution_count": 51,
      "metadata": {
        "id": "PMxQYJBwHgu5"
      },
      "outputs": [],
      "source": [
        "# resnet18 no pretraining\n",
        "resnet_model = torchvision.models.resnet18(weights=None)"
      ]
    },
    {
      "cell_type": "code",
      "execution_count": 52,
      "metadata": {
        "id": "Wg38Xu9qHgu6"
      },
      "outputs": [],
      "source": [
        "#print(resnet_model)"
      ]
    },
    {
      "cell_type": "markdown",
      "metadata": {
        "id": "RZVAxUaEHgu7"
      },
      "source": [
        "We need to edit the first layer to pass it our number of input channels."
      ]
    },
    {
      "cell_type": "code",
      "execution_count": 53,
      "metadata": {
        "id": "vZGXHQiYHgu8"
      },
      "outputs": [],
      "source": [
        "# edit the first layer of resnet18 to take our number of channels as input instead of 3\n",
        "resnet_model.conv1 = nn.Conv2d(nb_channels, 64, kernel_size=7, stride=2, padding=3, bias=False)   "
      ]
    },
    {
      "cell_type": "markdown",
      "metadata": {
        "id": "ApDAV0WsHgu8"
      },
      "source": [
        "We update the output size of the last layer to match our number of classes."
      ]
    },
    {
      "cell_type": "code",
      "execution_count": 54,
      "metadata": {
        "id": "R63EwFN7Hgu9"
      },
      "outputs": [],
      "source": [
        "# Replace the last layer to output our number of classes\n",
        "num_ftrs = resnet_model.fc.in_features\n",
        "resnet_model.fc = nn.Linear(num_ftrs, NB_CLS) "
      ]
    },
    {
      "cell_type": "code",
      "execution_count": 55,
      "metadata": {
        "id": "aoDRduciHgu-"
      },
      "outputs": [],
      "source": [
        "resnet_model = resnet_model.to(device)"
      ]
    },
    {
      "cell_type": "code",
      "execution_count": 56,
      "metadata": {
        "id": "1AvyiAfnHgu-"
      },
      "outputs": [],
      "source": [
        "# Try different learning rate\n",
        "learning_rate = 0.0001  \n",
        "\n",
        "# Try different number of epochs\n",
        "num_epochs = 20\n",
        "\n",
        "# Try different loss function\n",
        "criterion = nn.CrossEntropyLoss()\n",
        "\n",
        "# Try different optimizer \n",
        "optimizer = torch.optim.AdamW(resnet_model.parameters(), lr=learning_rate)\n",
        "\n",
        "# path to save new model\n",
        "save_path = 'tiff_resnet18_CNN.pt'"
      ]
    },
    {
      "cell_type": "code",
      "execution_count": 57,
      "metadata": {
        "colab": {
          "base_uri": "https://localhost:8080/",
          "height": 769
        },
        "id": "Eg0J1yyfHgvA",
        "outputId": "f1d9e418-29c4-430b-8b50-f3701d31016f"
      },
      "outputs": [
        {
          "output_type": "stream",
          "name": "stdout",
          "text": [
            "Training for 20 epochs with 4 channels\n",
            "Epoch: 1 \tTraining Loss: 1.172509 \tValidation Loss: 1.555648\n",
            "Epoch: 2 \tTraining Loss: 1.022024 \tValidation Loss: 1.396212\n",
            "Epoch: 3 \tTraining Loss: 0.913751 \tValidation Loss: 1.322022\n",
            "Epoch: 4 \tTraining Loss: 0.800591 \tValidation Loss: 1.085158\n",
            "Epoch: 5 \tTraining Loss: 0.760198 \tValidation Loss: 0.906413\n",
            "Epoch: 6 \tTraining Loss: 0.716282 \tValidation Loss: 0.672912\n",
            "Epoch: 7 \tTraining Loss: 0.650579 \tValidation Loss: 0.564748\n",
            "Epoch: 8 \tTraining Loss: 0.605112 \tValidation Loss: 0.535081\n",
            "Epoch: 9 \tTraining Loss: 0.518091 \tValidation Loss: 0.459488\n",
            "Epoch: 10 \tTraining Loss: 0.525413 \tValidation Loss: 0.463849\n",
            "Epoch: 11 \tTraining Loss: 0.484616 \tValidation Loss: 0.409703\n",
            "Epoch: 12 \tTraining Loss: 0.468997 \tValidation Loss: 0.332889\n",
            "Epoch: 13 \tTraining Loss: 0.424716 \tValidation Loss: 0.302248\n",
            "Epoch: 14 \tTraining Loss: 0.397797 \tValidation Loss: 0.265995\n",
            "Epoch: 15 \tTraining Loss: 0.327845 \tValidation Loss: 0.241315\n",
            "Epoch: 16 \tTraining Loss: 0.302216 \tValidation Loss: 0.242541\n",
            "Epoch: 17 \tTraining Loss: 0.266328 \tValidation Loss: 0.248309\n",
            "Epoch: 18 \tTraining Loss: 0.310026 \tValidation Loss: 0.199707\n",
            "Epoch: 19 \tTraining Loss: 0.313825 \tValidation Loss: 0.180663\n",
            "Epoch: 20 \tTraining Loss: 0.334026 \tValidation Loss: 0.157617\n"
          ]
        },
        {
          "output_type": "display_data",
          "data": {
            "text/plain": [
              "<Figure size 1440x432 with 1 Axes>"
            ],
            "image/png": "[encoded data removed]"
          },
          "metadata": {
            "needs_background": "light"
          }
        }
      ],
      "source": [
        "# Train the model and know the training time\n",
        "t_start = time.time()\n",
        "\n",
        "train_model(resnet_model, save_path)\n",
        "\n",
        "t_final = time.time()\n",
        "\n",
        "train_time.append(t_final - t_start) "
      ]
    },
    {
      "cell_type": "code",
      "execution_count": 58,
      "metadata": {
        "colab": {
          "base_uri": "https://localhost:8080/"
        },
        "id": "jnyIj8HoHgvA",
        "outputId": "8eb613b8-303b-4c70-a1fd-b177d31d45e3"
      },
      "outputs": [
        {
          "output_type": "execute_result",
          "data": {
            "text/plain": [
              "<All keys matched successfully>"
            ]
          },
          "metadata": {},
          "execution_count": 58
        }
      ],
      "source": [
        "resnet_model.load_state_dict(torch.load(save_path))"
      ]
    },
    {
      "cell_type": "code",
      "execution_count": 59,
      "metadata": {
        "colab": {
          "base_uri": "https://localhost:8080/"
        },
        "id": "yC8s4wF4HgvB",
        "outputId": "f24e4df3-5708-4b80-91a4-9a875c5aea15"
      },
      "outputs": [
        {
          "output_type": "stream",
          "name": "stdout",
          "text": [
            "Test Loss: 0.751292\n",
            "\n",
            "Test Accuracy of Industrial: 76% (10/13)\n",
            "Test Accuracy of AnnualCrop: 85% (12/14)\n",
            "Test Accuracy of Highway: 73% (11/15)\n",
            "\n",
            "Test Accuracy (Overall): 78% (33/42)\n"
          ]
        }
      ],
      "source": [
        "test_model(resnet_model)"
      ]
    },
    {
      "cell_type": "code",
      "execution_count": 60,
      "metadata": {
        "id": "4ZaTo0K8HgvE"
      },
      "outputs": [],
      "source": [
        "del resnet_model"
      ]
    },
    {
      "cell_type": "markdown",
      "metadata": {
        "id": "GsfhlNzZHgvG"
      },
      "source": [
        "### Transfer learning\n",
        "\n",
        "We perform transfer learning with resnet18 pretrained on Imagenet. We first perform finetuning where we simply continue training the previously trained model, and then fixed fiture extraction where we freeze the parameters and only train the last linear layer."
      ]
    },
    {
      "cell_type": "code",
      "execution_count": 79,
      "metadata": {
        "id": "zhe8dDFtHgvH"
      },
      "outputs": [],
      "source": [
        "tiff_train_dataset = TIFFEODataset(tiff_train_data_list, tiff_train_class_list)\n",
        "tiff_valid_dataset = TIFFEODataset(tiff_valid_data_list, tiff_valid_class_list)\n",
        "tiff_test_dataset = TIFFEODataset(tiff_test_data_list, tiff_test_class_list)\n",
        "\n",
        "BATCH_SIZE = 64\n",
        "tiff_train_loader = DataLoader(tiff_train_dataset, batch_size = BATCH_SIZE, shuffle = True)\n",
        "tiff_valid_loader = DataLoader(tiff_valid_dataset, batch_size = 10, shuffle = True)\n",
        "tiff_test_loader = DataLoader(tiff_test_dataset, batch_size = 20, shuffle = False)"
      ]
    },
    {
      "cell_type": "markdown",
      "metadata": {
        "id": "2MF5DsAlHgvI"
      },
      "source": [
        "We will also need to update the input layer of the network to match the number of channels of our images, and replace the last layer with a linear layer matching our number of classes."
      ]
    },
    {
      "cell_type": "markdown",
      "metadata": {
        "id": "lR1jXF_vHgvI"
      },
      "source": [
        "#### Finetuning"
      ]
    },
    {
      "cell_type": "code",
      "execution_count": 80,
      "metadata": {
        "id": "hSWB2EwyHgvJ"
      },
      "outputs": [],
      "source": [
        "# resnet pre-trained on imagenet\n",
        "resnet_model2 = torchvision.models.resnet18(weights='ResNet18_Weights.DEFAULT')\n",
        "\n",
        "# edit the first layer of resnet18 to take our number of channels as input instead of 3\n",
        "resnet_model2.conv1 = nn.Conv2d(nb_channels, 64, kernel_size=7, stride=2, padding=3, bias=False)\n",
        "\n",
        "# Replace the last layer to output out number of classes\n",
        "num_ftrs = resnet_model2.fc.in_features\n",
        "resnet_model2.fc = nn.Linear(num_ftrs, NB_CLS)    "
      ]
    },
    {
      "cell_type": "code",
      "execution_count": 81,
      "metadata": {
        "id": "8iR7t64tHgvJ"
      },
      "outputs": [],
      "source": [
        "resnet_model_ft = resnet_model2.to(device)"
      ]
    },
    {
      "cell_type": "code",
      "execution_count": 82,
      "metadata": {
        "id": "yjbxEVY0HgvK"
      },
      "outputs": [],
      "source": [
        "# Try different learning rate\n",
        "learning_rate = 0.0001  \n",
        "\n",
        "# Try different numbere of epochs\n",
        "num_epochs = 20\n",
        "\n",
        "# Try different loss function\n",
        "criterion = nn.CrossEntropyLoss()\n",
        "\n",
        "# Try different optimizer \n",
        "optimizer = torch.optim.AdamW(resnet_model_ft.parameters(), lr=learning_rate)\n",
        "\n",
        "# path to save new model\n",
        "save_path = 'tiff_resnet18_finetuned_CNN.pt'"
      ]
    },
    {
      "cell_type": "code",
      "execution_count": 83,
      "metadata": {
        "colab": {
          "base_uri": "https://localhost:8080/",
          "height": 419
        },
        "id": "DemIjKg_HgvK",
        "outputId": "8a5b93c9-2e73-4337-f44a-0066f28084f6"
      },
      "outputs": [
        {
          "output_type": "stream",
          "name": "stdout",
          "text": [
            "Training for 20 epochs with 4 channels\n",
            "Epoch: 1 \tTraining Loss: 1.308798 \tValidation Loss: 1.102550\n",
            "Epoch: 2 \tTraining Loss: 0.458445 \tValidation Loss: 0.891278\n",
            "Epoch: 3 \tTraining Loss: 0.250042 \tValidation Loss: 0.618749\n",
            "Epoch: 4 \tTraining Loss: 0.185881 \tValidation Loss: 0.348953\n",
            "Epoch: 5 \tTraining Loss: 0.134129 \tValidation Loss: 0.184452\n",
            "Epoch: 6 \tTraining Loss: 0.108402 \tValidation Loss: 0.089982\n",
            "Epoch: 7 \tTraining Loss: 0.099268 \tValidation Loss: 0.042518\n",
            "Epoch: 8 \tTraining Loss: 0.086081 \tValidation Loss: 0.025101\n",
            "Epoch: 9 \tTraining Loss: 0.077778 \tValidation Loss: 0.020004\n",
            "Epoch: 10 \tTraining Loss: 0.076675 \tValidation Loss: 0.019165\n",
            "Epoch: 11 \tTraining Loss: 0.069676 \tValidation Loss: 0.014095\n",
            "Epoch: 12 \tTraining Loss: 0.068649 \tValidation Loss: 0.008489\n",
            "Epoch: 13 \tTraining Loss: 0.071206 \tValidation Loss: 0.008760\n",
            "Epoch: 14 \tTraining Loss: 0.080927 \tValidation Loss: 0.023988\n",
            "Epoch: 15 \tTraining Loss: 0.068729 \tValidation Loss: 0.009461\n",
            "Epoch: 16 \tTraining Loss: 0.063017 \tValidation Loss: 0.006082\n",
            "Epoch: 17 \tTraining Loss: 0.062367 \tValidation Loss: 0.012724\n",
            "Epoch: 18 \tTraining Loss: 0.073098 \tValidation Loss: 0.005492\n",
            "Epoch: 19 \tTraining Loss: 0.057753 \tValidation Loss: 0.002290\n",
            "Epoch: 20 \tTraining Loss: 0.080198 \tValidation Loss: 0.005229\n"
          ]
        },
        {
          "output_type": "display_data",
          "data": {
            "text/plain": [
              "<Figure size 1440x432 with 1 Axes>"
            ],
            "image/png": "[encoded data removed]"
          },
          "metadata": {
            "needs_background": "light"
          }
        }
      ],
      "source": [
        "# Train the model and know the training time\n",
        "t_start = time.time()\n",
        "\n",
        "train_model(resnet_model_ft, save_path)\n",
        "\n",
        "t_final = time.time()\n",
        "\n",
        "train_time.append(t_final - t_start)"
      ]
    },
    {
      "cell_type": "code",
      "execution_count": 84,
      "metadata": {
        "colab": {
          "base_uri": "https://localhost:8080/"
        },
        "id": "OHL8sibVHgvL",
        "outputId": "c9514843-8598-4045-e549-6a47165e7766"
      },
      "outputs": [
        {
          "output_type": "execute_result",
          "data": {
            "text/plain": [
              "<All keys matched successfully>"
            ]
          },
          "metadata": {},
          "execution_count": 84
        }
      ],
      "source": [
        "resnet_model_ft.load_state_dict(torch.load(save_path))"
      ]
    },
    {
      "cell_type": "code",
      "execution_count": 85,
      "metadata": {
        "colab": {
          "base_uri": "https://localhost:8080/"
        },
        "id": "VOm1o9XQHgvM",
        "outputId": "8b0b91c7-5403-4d45-e43a-6c4b67719d8f"
      },
      "outputs": [
        {
          "output_type": "stream",
          "name": "stdout",
          "text": [
            "Test Loss: 0.614095\n",
            "\n",
            "Test Accuracy of Industrial: 69% ( 9/13)\n",
            "Test Accuracy of AnnualCrop: 78% (11/14)\n",
            "Test Accuracy of Highway: 80% (12/15)\n",
            "\n",
            "Test Accuracy (Overall): 76% (32/42)\n"
          ]
        }
      ],
      "source": [
        "test_model(resnet_model_ft)"
      ]
    },
    {
      "cell_type": "code",
      "execution_count": 86,
      "metadata": {
        "id": "_uJ-nNFtHgvM"
      },
      "outputs": [],
      "source": [
        "del resnet_model_ft"
      ]
    },
    {
      "cell_type": "markdown",
      "metadata": {
        "id": "auqCYVUTHgvR"
      },
      "source": [
        "#### Fixed feature extractor"
      ]
    },
    {
      "cell_type": "code",
      "execution_count": 87,
      "metadata": {
        "id": "LGR8SQa4HgvS"
      },
      "outputs": [],
      "source": [
        "# resnet pre-trained on imagenet\n",
        "resnet_model3 = torchvision.models.resnet18(weights='ResNet18_Weights.DEFAULT')\n",
        "\n",
        "# freeze parameters to avoid computing the gradient in the backward pass\n",
        "for param in resnet_model3.parameters():\n",
        "    param.requires_grad = False\n",
        "    \n",
        "# edit the first layer of resnet18 to take our number of channels as input instead of 3\n",
        "resnet_model3.conv1 = nn.Conv2d(nb_channels, 64, kernel_size=7, stride=2, padding=3, bias=False)\n",
        "\n",
        "# Replace the last layer to output our number of classes\n",
        "num_ftrs = resnet_model3.fc.in_features\n",
        "resnet_model3.fc = nn.Linear(num_ftrs, NB_CLS)    "
      ]
    },
    {
      "cell_type": "code",
      "execution_count": 88,
      "metadata": {
        "id": "Nwzauji8HgvU"
      },
      "outputs": [],
      "source": [
        "resnet_model_fe = resnet_model3.to(device)"
      ]
    },
    {
      "cell_type": "code",
      "execution_count": 89,
      "metadata": {
        "id": "XEayf2RoHgvU"
      },
      "outputs": [],
      "source": [
        "# Try different learning rate\n",
        "learning_rate = 0.0001  \n",
        "\n",
        "# Try different number of epochs\n",
        "num_epochs = 20\n",
        "\n",
        "# Try different loss function\n",
        "criterion = nn.CrossEntropyLoss()\n",
        "\n",
        "# Try different optimizer \n",
        "optimizer = torch.optim.AdamW(resnet_model_fe.fc.parameters(), lr=learning_rate)\n",
        "\n",
        "# path to save new model\n",
        "save_path = 'tiff_resnet18_featextract_CNN.pt'"
      ]
    },
    {
      "cell_type": "code",
      "execution_count": 90,
      "metadata": {
        "colab": {
          "base_uri": "https://localhost:8080/",
          "height": 769
        },
        "id": "eGTyjz9FHgvV",
        "outputId": "52a6e310-650d-414d-cb7c-c70d471ad8ba"
      },
      "outputs": [
        {
          "output_type": "stream",
          "name": "stdout",
          "text": [
            "Training for 20 epochs with 4 channels\n",
            "Epoch: 1 \tTraining Loss: 1.176183 \tValidation Loss: 1.355765\n",
            "Epoch: 2 \tTraining Loss: 1.157527 \tValidation Loss: 1.168828\n",
            "Epoch: 3 \tTraining Loss: 1.138475 \tValidation Loss: 1.189330\n",
            "Epoch: 4 \tTraining Loss: 1.143480 \tValidation Loss: 1.145427\n",
            "Epoch: 5 \tTraining Loss: 1.100036 \tValidation Loss: 1.099707\n",
            "Epoch: 6 \tTraining Loss: 1.104538 \tValidation Loss: 1.090382\n",
            "Epoch: 7 \tTraining Loss: 1.063673 \tValidation Loss: 1.065323\n",
            "Epoch: 8 \tTraining Loss: 1.077238 \tValidation Loss: 1.038356\n",
            "Epoch: 9 \tTraining Loss: 1.105903 \tValidation Loss: 1.039553\n",
            "Epoch: 10 \tTraining Loss: 1.029230 \tValidation Loss: 1.030688\n",
            "Epoch: 11 \tTraining Loss: 1.024064 \tValidation Loss: 1.023259\n",
            "Epoch: 12 \tTraining Loss: 1.024909 \tValidation Loss: 1.010396\n",
            "Epoch: 13 \tTraining Loss: 1.026206 \tValidation Loss: 0.999558\n",
            "Epoch: 14 \tTraining Loss: 1.004536 \tValidation Loss: 0.988316\n",
            "Epoch: 15 \tTraining Loss: 0.988074 \tValidation Loss: 0.977643\n",
            "Epoch: 16 \tTraining Loss: 0.976240 \tValidation Loss: 0.966202\n",
            "Epoch: 17 \tTraining Loss: 0.971645 \tValidation Loss: 0.946754\n",
            "Epoch: 18 \tTraining Loss: 0.986925 \tValidation Loss: 0.942567\n",
            "Epoch: 19 \tTraining Loss: 0.999126 \tValidation Loss: 0.935896\n",
            "Epoch: 20 \tTraining Loss: 0.979798 \tValidation Loss: 0.923992\n"
          ]
        },
        {
          "output_type": "display_data",
          "data": {
            "text/plain": [
              "<Figure size 1440x432 with 1 Axes>"
            ],
            "image/png": "[encoded data removed]"
          },
          "metadata": {
            "needs_background": "light"
          }
        }
      ],
      "source": [
        "# Train the model and know the training time\n",
        "t_start = time.time()\n",
        "\n",
        "train_model(resnet_model_fe, save_path)\n",
        "\n",
        "t_final = time.time()\n",
        "\n",
        "train_time.append(t_final - t_start) "
      ]
    },
    {
      "cell_type": "code",
      "execution_count": 91,
      "metadata": {
        "colab": {
          "base_uri": "https://localhost:8080/"
        },
        "id": "QJ5N9J1OHgvW",
        "outputId": "8026daa7-98bd-42af-ae00-88e56ecdbbbe"
      },
      "outputs": [
        {
          "output_type": "execute_result",
          "data": {
            "text/plain": [
              "<All keys matched successfully>"
            ]
          },
          "metadata": {},
          "execution_count": 91
        }
      ],
      "source": [
        "resnet_model_fe.load_state_dict(torch.load(save_path))"
      ]
    },
    {
      "cell_type": "code",
      "execution_count": 92,
      "metadata": {
        "colab": {
          "base_uri": "https://localhost:8080/"
        },
        "id": "ijLy8J3FHgvX",
        "outputId": "d2d7627f-bbfe-4431-e830-fb99b8dd2c26"
      },
      "outputs": [
        {
          "output_type": "stream",
          "name": "stdout",
          "text": [
            "Test Loss: 1.176435\n",
            "\n",
            "Test Accuracy of Industrial: 38% ( 5/13)\n",
            "Test Accuracy of AnnualCrop: 64% ( 9/14)\n",
            "Test Accuracy of Highway: 33% ( 5/15)\n",
            "\n",
            "Test Accuracy (Overall): 45% (19/42)\n"
          ]
        }
      ],
      "source": [
        "test_model(resnet_model_fe)"
      ]
    },
    {
      "cell_type": "code",
      "execution_count": 93,
      "metadata": {
        "id": "0vivbxoiHgvX"
      },
      "outputs": [],
      "source": [
        "del resnet_model_fe"
      ]
    },
    {
      "cell_type": "markdown",
      "metadata": {
        "id": "u0m40xE1HgvZ"
      },
      "source": [
        "### Graphical recap of test accuracy and training times"
      ]
    },
    {
      "cell_type": "code",
      "execution_count": 94,
      "metadata": {
        "colab": {
          "base_uri": "https://localhost:8080/",
          "height": 493
        },
        "id": "jXq3ipBmHgvZ",
        "outputId": "871f72e0-5cae-4a0f-ab66-c7f5f46bde13"
      },
      "outputs": [
        {
          "output_type": "display_data",
          "data": {
            "text/plain": [
              "<Figure size 1296x504 with 2 Axes>"
            ],
            "image/png": "[encoded data removed]"
          },
          "metadata": {
            "needs_background": "light"
          }
        },
        {
          "output_type": "stream",
          "name": "stdout",
          "text": [
            "Average accuracy is 61.64 and average time is 8.51 with 3 classes used and proportion of 70.0% images used\n",
            "Total time: 76.60 seconds ( 1 min )\n"
          ]
        }
      ],
      "source": [
        "x = np.arange(len(train_time)) + 1\n",
        "\n",
        "fig, (ax1,ax2) = plt.subplots(nrows=1, ncols=2, figsize=(18,7))\n",
        "\n",
        "ax1.bar(x, test_accuracy_overall, align='center', color=\"red\")\n",
        "ax1.set_title(\"Overall accuracy bar chart\")\n",
        "ax1.set_xlabel('Test')\n",
        "ax1.set_ylabel('Overall test accuracy in percent')\n",
        "\n",
        "ax2.bar(x, train_time, align='center', color=\"blue\")\n",
        "ax2.set_title(\"Training time bar chart\")\n",
        "ax2.set_xlabel('Training')\n",
        "ax2.set_ylabel('Time in seconds')\n",
        "\n",
        "plt.show()\n",
        "\n",
        "print(f'Average accuracy is {sum(test_accuracy_overall)/len(test_accuracy_overall):0.2f} and average time is {sum(train_time)/len(train_time):0.2f} with {NB_CLS} classes used and proportion of {IMG_PROP*100:0.1f}% images used',)\n",
        "print(f\"Total time: {sum(train_time):0.2f} seconds ( {int(sum(train_time)//60)} min )\")"
      ]
    },
    {
      "cell_type": "markdown",
      "metadata": {
        "id": "lAxNJUFZHgva"
      },
      "source": [
        "### Your turn"
      ]
    },
    {
      "cell_type": "markdown",
      "metadata": {
        "id": "hS2hl_YIHgvb"
      },
      "source": [
        "#### Your own CNN\n",
        "Create your own CNN that can outperform the simple CNN we created previously. Use different kernel sizes, a different number of convolutional layers, etc."
      ]
    },
    {
      "cell_type": "code",
      "execution_count": 99,
      "metadata": {
        "id": "QxogP7I-Hgvc"
      },
      "outputs": [],
      "source": [
        "# TO DO\n",
        "class CNN3(nn.Module):\n",
        "    def __init__(self):\n",
        "        super(CNN2, self).__init__()\n",
        "        # convolutional layer (sees 3x64x64 image tensor)\n",
        "        self.conv1 = nn.Conv2d(nb_channels, 32, 3, padding=1)\n",
        "        # convolutional layer (out 32x64x64 tensor)\n",
        "        # poll below layer (out 32x32x32 tensor)\n",
        "        self.conv2 = nn.Conv2d(32, 32, 3, padding=1)\n",
        "        # convolutional layer (out 32x32x32 tensor)\n",
        "        # pool below layer (out 32x16x16 tensor)\n",
        "        self.conv3 = nn.Conv2d(32, 64, 3, padding=1)\n",
        "        # convolutional layer (out 64x16x16 tensor)\n",
        "        # pool below layer (out 64x8x8 tensor)\n",
        "        self.conv4 = nn.Conv2d(64, 64, 3, padding=1)\n",
        "        # convolutional layer (out 64x8x8 tensor)\n",
        "        # pool below layer (out 64x4x4 tensor)\n",
        "        self.conv5 = nn.Conv2d(64, 32, 3, padding=1)\n",
        "        # max pooling layer\n",
        "        self.pool = nn.MaxPool2d(2, 2)\n",
        "        # linear layer (64 * 4 * 4 -> 500)\n",
        "        self.fc1 = nn.Linear(64 * 4 * 4, 500)\n",
        "        # linear layer (500 -> 10)\n",
        "        self.fc2 = nn.Linear(500, 10)\n",
        "        # dropout layer (p=0.25)\n",
        "        self.dropout = nn.Dropout(0.25)\n",
        "\n",
        "    def forward(self, x):\n",
        "        # pass through each conv followed by pool layers\n",
        "        x = self.pool(F.relu(self.conv1(x)))\n",
        "        x = self.pool(F.relu(self.conv2(x)))\n",
        "        x = self.pool(F.relu(self.conv3(x)))\n",
        "        x = self.pool(F.relu(self.conv4(x)))\n",
        "        x = self.pool(F.relu(self.conv5(x)))\n",
        "        # flatten the output of the last conv-pool\n",
        "        x = x.view(-1, 64 * 4 * 4)\n",
        "        # dropout added to prevent overfitting\n",
        "        x = self.dropout(x)\n",
        "        x = F.relu(self.fc1(x))\n",
        "        x = self.dropout(x)\n",
        "        x = self.fc2(x)\n",
        "        return x"
      ]
    },
    {
      "cell_type": "code",
      "source": [
        "#instantiate model\n",
        "tiff_classification_model6 = CNN3()\n",
        "\n",
        "# put model on device\n",
        "tiff_classification_model6 = tiff_classification_model6.to(device)\n",
        "\n",
        "# Try different learning rate\n",
        "learning_rate = 0.0001  \n",
        "\n",
        "# Try different number of epochs\n",
        "num_epochs = 20\n",
        "\n",
        "# Try different loss function\n",
        "criterion = nn.CrossEntropyLoss()\n",
        "\n",
        "# Try different optimizer \n",
        "optimizer = torch.optim.AdamW(tiff_classification_model6.parameters(), lr=learning_rate)\n",
        "\n",
        "# Normalize with dataset values?\n",
        "DATASET_NORM_IMG = False\n",
        "\n",
        "# Define dataset with transforms\n",
        "tiff_train_dataset = TIFFEODataset(tiff_train_data_list, tiff_train_class_list, transform=transform)\n",
        "tiff_valid_dataset = TIFFEODataset(tiff_valid_data_list, tiff_valid_class_list, transform=None)\n",
        "tiff_test_dataset = TIFFEODataset(tiff_test_data_list, tiff_test_class_list, transform=None)\n",
        "\n",
        "# Try different batch sizes\n",
        "BATCH_SIZE = 64\n",
        "tiff_train_loader = DataLoader(tiff_train_dataset, batch_size = BATCH_SIZE, shuffle = True)\n",
        "tiff_valid_loader = DataLoader(tiff_valid_dataset, batch_size = 10, shuffle = True)\n",
        "tiff_test_loader = DataLoader(tiff_test_dataset, batch_size = 20, shuffle = False)\n",
        "\n",
        "# path to save new model\n",
        "save_path = 'tiff_simple_CNN5.pt'\n",
        "\n",
        "# Train the model and know the training time\n",
        "t_start = time.time()\n",
        "\n",
        "train_model(tiff_classification_model6, save_path)\n",
        "\n",
        "t_final = time.time()\n",
        "\n",
        "train_time.append(t_final - t_start) \n",
        "\n"
      ],
      "metadata": {
        "colab": {
          "base_uri": "https://localhost:8080/",
          "height": 359
        },
        "id": "i8y7hCDvrz0s",
        "outputId": "3a8b4e52-4daf-435b-bc68-3a03c0d889c2"
      },
      "execution_count": 101,
      "outputs": [
        {
          "output_type": "error",
          "ename": "TypeError",
          "evalue": "ignored",
          "traceback": [
            "\u001b[0;31m---------------------------------------------------------------------------\u001b[0m",
            "\u001b[0;31mTypeError\u001b[0m                                 Traceback (most recent call last)",
            "\u001b[0;32m<ipython-input-101-b8122d402943>\u001b[0m in \u001b[0;36m<module>\u001b[0;34m()\u001b[0m\n\u001b[1;32m      1\u001b[0m \u001b[0;31m#instantiate model\u001b[0m\u001b[0;34m\u001b[0m\u001b[0;34m\u001b[0m\u001b[0;34m\u001b[0m\u001b[0m\n\u001b[0;32m----> 2\u001b[0;31m \u001b[0mtiff_classification_model6\u001b[0m \u001b[0;34m=\u001b[0m \u001b[0mCNN3\u001b[0m\u001b[0;34m(\u001b[0m\u001b[0;34m)\u001b[0m\u001b[0;34m\u001b[0m\u001b[0;34m\u001b[0m\u001b[0m\n\u001b[0m\u001b[1;32m      3\u001b[0m \u001b[0;34m\u001b[0m\u001b[0m\n\u001b[1;32m      4\u001b[0m \u001b[0;31m# put model on device\u001b[0m\u001b[0;34m\u001b[0m\u001b[0;34m\u001b[0m\u001b[0;34m\u001b[0m\u001b[0m\n\u001b[1;32m      5\u001b[0m \u001b[0mtiff_classification_model6\u001b[0m \u001b[0;34m=\u001b[0m \u001b[0mtiff_classification_model6\u001b[0m\u001b[0;34m.\u001b[0m\u001b[0mto\u001b[0m\u001b[0;34m(\u001b[0m\u001b[0mdevice\u001b[0m\u001b[0;34m)\u001b[0m\u001b[0;34m\u001b[0m\u001b[0;34m\u001b[0m\u001b[0m\n",
            "\u001b[0;32m<ipython-input-99-96414b22640a>\u001b[0m in \u001b[0;36m__init__\u001b[0;34m(self)\u001b[0m\n\u001b[1;32m      2\u001b[0m \u001b[0;32mclass\u001b[0m \u001b[0mCNN3\u001b[0m\u001b[0;34m(\u001b[0m\u001b[0mnn\u001b[0m\u001b[0;34m.\u001b[0m\u001b[0mModule\u001b[0m\u001b[0;34m)\u001b[0m\u001b[0;34m:\u001b[0m\u001b[0;34m\u001b[0m\u001b[0;34m\u001b[0m\u001b[0m\n\u001b[1;32m      3\u001b[0m     \u001b[0;32mdef\u001b[0m \u001b[0m__init__\u001b[0m\u001b[0;34m(\u001b[0m\u001b[0mself\u001b[0m\u001b[0;34m)\u001b[0m\u001b[0;34m:\u001b[0m\u001b[0;34m\u001b[0m\u001b[0;34m\u001b[0m\u001b[0m\n\u001b[0;32m----> 4\u001b[0;31m         \u001b[0msuper\u001b[0m\u001b[0;34m(\u001b[0m\u001b[0mCNN2\u001b[0m\u001b[0;34m,\u001b[0m \u001b[0mself\u001b[0m\u001b[0;34m)\u001b[0m\u001b[0;34m.\u001b[0m\u001b[0m__init__\u001b[0m\u001b[0;34m(\u001b[0m\u001b[0;34m)\u001b[0m\u001b[0;34m\u001b[0m\u001b[0;34m\u001b[0m\u001b[0m\n\u001b[0m\u001b[1;32m      5\u001b[0m         \u001b[0;31m# convolutional layer (sees 3x64x64 image tensor)\u001b[0m\u001b[0;34m\u001b[0m\u001b[0;34m\u001b[0m\u001b[0;34m\u001b[0m\u001b[0m\n\u001b[1;32m      6\u001b[0m         \u001b[0mself\u001b[0m\u001b[0;34m.\u001b[0m\u001b[0mconv1\u001b[0m \u001b[0;34m=\u001b[0m \u001b[0mnn\u001b[0m\u001b[0;34m.\u001b[0m\u001b[0mConv2d\u001b[0m\u001b[0;34m(\u001b[0m\u001b[0mnb_channels\u001b[0m\u001b[0;34m,\u001b[0m \u001b[0;36m32\u001b[0m\u001b[0;34m,\u001b[0m \u001b[0;36m3\u001b[0m\u001b[0;34m,\u001b[0m \u001b[0mpadding\u001b[0m\u001b[0;34m=\u001b[0m\u001b[0;36m1\u001b[0m\u001b[0;34m)\u001b[0m\u001b[0;34m\u001b[0m\u001b[0;34m\u001b[0m\u001b[0m\n",
            "\u001b[0;31mTypeError\u001b[0m: super(type, obj): obj must be an instance or subtype of type"
          ]
        }
      ]
    },
    {
      "cell_type": "code",
      "execution_count": 102,
      "metadata": {
        "colab": {
          "base_uri": "https://localhost:8080/",
          "height": 307
        },
        "outputId": "6a536287-2cd5-4f04-a0bc-775932bfd86e",
        "id": "tevMJsxusU-G"
      },
      "outputs": [
        {
          "output_type": "error",
          "ename": "RuntimeError",
          "evalue": "ignored",
          "traceback": [
            "\u001b[0;31m---------------------------------------------------------------------------\u001b[0m",
            "\u001b[0;31mRuntimeError\u001b[0m                              Traceback (most recent call last)",
            "\u001b[0;32m<ipython-input-102-f885eb2d278e>\u001b[0m in \u001b[0;36m<module>\u001b[0;34m()\u001b[0m\n\u001b[0;32m----> 1\u001b[0;31m \u001b[0mtiff_classification_model5\u001b[0m\u001b[0;34m.\u001b[0m\u001b[0mload_state_dict\u001b[0m\u001b[0;34m(\u001b[0m\u001b[0mtorch\u001b[0m\u001b[0;34m.\u001b[0m\u001b[0mload\u001b[0m\u001b[0;34m(\u001b[0m\u001b[0msave_path\u001b[0m\u001b[0;34m)\u001b[0m\u001b[0;34m)\u001b[0m\u001b[0;34m\u001b[0m\u001b[0;34m\u001b[0m\u001b[0m\n\u001b[0m",
            "\u001b[0;32m/usr/local/lib/python3.7/dist-packages/torch/nn/modules/module.py\u001b[0m in \u001b[0;36mload_state_dict\u001b[0;34m(self, state_dict, strict)\u001b[0m\n\u001b[1;32m   1603\u001b[0m         \u001b[0;32mif\u001b[0m \u001b[0mlen\u001b[0m\u001b[0;34m(\u001b[0m\u001b[0merror_msgs\u001b[0m\u001b[0;34m)\u001b[0m \u001b[0;34m>\u001b[0m \u001b[0;36m0\u001b[0m\u001b[0;34m:\u001b[0m\u001b[0;34m\u001b[0m\u001b[0;34m\u001b[0m\u001b[0m\n\u001b[1;32m   1604\u001b[0m             raise RuntimeError('Error(s) in loading state_dict for {}:\\n\\t{}'.format(\n\u001b[0;32m-> 1605\u001b[0;31m                                self.__class__.__name__, \"\\n\\t\".join(error_msgs)))\n\u001b[0m\u001b[1;32m   1606\u001b[0m         \u001b[0;32mreturn\u001b[0m \u001b[0m_IncompatibleKeys\u001b[0m\u001b[0;34m(\u001b[0m\u001b[0mmissing_keys\u001b[0m\u001b[0;34m,\u001b[0m \u001b[0munexpected_keys\u001b[0m\u001b[0;34m)\u001b[0m\u001b[0;34m\u001b[0m\u001b[0;34m\u001b[0m\u001b[0m\n\u001b[1;32m   1607\u001b[0m \u001b[0;34m\u001b[0m\u001b[0m\n",
            "\u001b[0;31mRuntimeError\u001b[0m: Error(s) in loading state_dict for CNN2:\n\tMissing key(s) in state_dict: \"conv5.weight\", \"conv5.bias\". "
          ]
        }
      ],
      "source": [
        "tiff_classification_model5.load_state_dict(torch.load(save_path))"
      ]
    },
    {
      "cell_type": "code",
      "execution_count": null,
      "metadata": {
        "colab": {
          "base_uri": "https://localhost:8080/"
        },
        "outputId": "7354ecaf-48d6-4c89-af50-cac21ff958dd",
        "id": "KI8bOzX0sU-I"
      },
      "outputs": [
        {
          "output_type": "stream",
          "name": "stdout",
          "text": [
            "Test Loss: 0.997448\n",
            "\n",
            "Test Accuracy of Industrial: 84% (11/13)\n",
            "Test Accuracy of AnnualCrop: 71% (10/14)\n",
            "Test Accuracy of Highway: 53% ( 8/15)\n",
            "\n",
            "Test Accuracy (Overall): 69% (29/42)\n"
          ]
        }
      ],
      "source": [
        "test_model(tiff_classification_model5)"
      ]
    },
    {
      "cell_type": "code",
      "execution_count": null,
      "metadata": {
        "id": "Wz8ukaPrsU-K"
      },
      "outputs": [],
      "source": [
        "del tiff_classification_model5"
      ]
    },
    {
      "cell_type": "markdown",
      "metadata": {
        "id": "f3AV5NG_Hgvd"
      },
      "source": [
        "#### Transfer learning"
      ]
    },
    {
      "cell_type": "markdown",
      "metadata": {
        "id": "PJ5UYFhuHgve"
      },
      "source": [
        "Look at model architectures available in torchvision for image classification [here](https://pytorch.org/vision/0.8/models.html). Choose one other than resnet18 and perform transfer learning with  the same data we have used in previous exercices. See if you can reach better results than what we had with resnet18."
      ]
    },
    {
      "cell_type": "code",
      "execution_count": 96,
      "metadata": {
        "id": "GIj8EnqsHgvf"
      },
      "outputs": [],
      "source": [
        "# TO DO"
      ]
    },
    {
      "cell_type": "markdown",
      "metadata": {
        "id": "yVSJxyJiHgvf"
      },
      "source": [
        "### Resources\n",
        "[Online course on CNNs](https://cs231n.github.io/convolutional-networks/#layers) <br>\n",
        "[Pytorch documentation](https://pytorch.org/docs) <br>\n",
        "[Pytorch tutorials](https://pytorch.org/tutorials)<br>\n",
        "[Gdal documentation](https://gdal.org/)"
      ]
    },
    {
      "cell_type": "markdown",
      "metadata": {
        "id": "OVAiFSWpHgvg"
      },
      "source": [
        "### References\n",
        "[1] Eurosat: A novel dataset and deep learning benchmark for land use and land cover classification. Patrick Helber, Benjamin Bischke, Andreas Dengel, Damian Borth. IEEE Journal of Selected Topics in Applied Earth Observations and Remote Sensing, 2019.\n"
      ]
    },
    {
      "cell_type": "markdown",
      "metadata": {
        "id": "PUrqHS0VHgvh"
      },
      "source": [
        "[2] Introducing EuroSAT: A Novel Dataset and Deep Learning Benchmark for Land Use and Land Cover Classification. Patrick Helber, Benjamin Bischke, Andreas Dengel. 2018 IEEE International Geoscience and Remote Sensing Symposium, 2018."
      ]
    }
  ],
  "metadata": {
    "kernelspec": {
      "display_name": "Python 3",
      "language": "python",
      "name": "python3"
    },
    "language_info": {
      "codemirror_mode": {
        "name": "ipython",
        "version": 3
      },
      "file_extension": ".py",
      "mimetype": "text/x-python",
      "name": "python",
      "nbconvert_exporter": "python",
      "pygments_lexer": "ipython3",
      "version": "3.6.10"
    },
    "colab": {
      "name": "INNEO-SPACE-LAB-2-2-Student.ipynb",
      "provenance": [],
      "include_colab_link": true
    },
    "accelerator": "GPU",
    "gpuClass": "standard"
  },
  "nbformat": 4,
  "nbformat_minor": 0
}